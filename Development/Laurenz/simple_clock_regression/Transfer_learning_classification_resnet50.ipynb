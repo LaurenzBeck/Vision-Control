{
 "cells": [
  {
   "cell_type": "code",
   "execution_count": 1,
   "metadata": {},
   "outputs": [
    {
     "name": "stderr",
     "output_type": "stream",
     "text": [
      "Using TensorFlow backend.\n"
     ]
    },
    {
     "name": "stdout",
     "output_type": "stream",
     "text": [
      "2.1.6-tf\n",
      "['/job:localhost/replica:0/task:0/device:GPU:0']\n"
     ]
    }
   ],
   "source": [
    "import pandas as pd\n",
    "import numpy as np\n",
    "import tensorflow as tf\n",
    "import os\n",
    "from time import time\n",
    "import keras\n",
    "import matplotlib.pyplot as plt\n",
    "import matplotlib.image as mpimg\n",
    "\n",
    "from keras.layers import Dense,GlobalAveragePooling2D, Activation, Flatten, Dropout\n",
    "from keras.applications.resnet50 import ResNet50, preprocess_input\n",
    "from keras.preprocessing import image\n",
    "from keras.preprocessing.image import ImageDataGenerator\n",
    "from keras.models import Sequential, Model\n",
    "from keras.optimizers import Adam\n",
    "from keras.callbacks import ModelCheckpoint, EarlyStopping, TensorBoard\n",
    "from keras import backend as K\n",
    "\n",
    "%matplotlib inline\n",
    "print(tf.keras.__version__)\n",
    "print(K.tensorflow_backend._get_available_gpus())"
   ]
  },
  {
   "cell_type": "code",
   "execution_count": 2,
   "metadata": {},
   "outputs": [
    {
     "name": "stderr",
     "output_type": "stream",
     "text": [
      "C:\\Users\\Laurenz\\Anaconda3\\envs\\tfgpu\\lib\\site-packages\\keras_applications\\resnet50.py:265: UserWarning: The output shape of `ResNet50(include_top=False)` has been changed since Keras 2.2.0.\n",
      "  warnings.warn('The output shape of `ResNet50(include_top=False)` '\n"
     ]
    }
   ],
   "source": [
    "# Input constants\n",
    "HEIGHT = 65\n",
    "WIDTH = 62\n",
    "CHANNELS = 3\n",
    "NUM_CLASSES = 60\n",
    "NUM_TRAIN_IMAGES = 660\n",
    "\n",
    "base_model = ResNet50(weights='imagenet', \n",
    "                      include_top=False, \n",
    "                      input_shape=(HEIGHT, WIDTH, CHANNELS))"
   ]
  },
  {
   "cell_type": "code",
   "execution_count": 3,
   "metadata": {},
   "outputs": [
    {
     "name": "stdout",
     "output_type": "stream",
     "text": [
      "Found 660 images belonging to 60 classes.\n"
     ]
    }
   ],
   "source": [
    "# Data Generator constants\n",
    "TRAIN_DIR = \"simple_clock/Datagenerator_simple_clock/Training\"\n",
    "BATCH_SIZE = 8\n",
    "\n",
    "train_datagen =  ImageDataGenerator(preprocessing_function=preprocess_input,\n",
    "                                    rotation_range=1,\n",
    "                                    #horizontal_flip=False,\n",
    "                                    #vertical_flip=False,\n",
    "                                    width_shift_range=0.03,\n",
    "                                    height_shift_range=0.03,\n",
    "                                    shear_range=0.01,\n",
    "                                    zoom_range=0.03,\n",
    "                                    )\n",
    "\n",
    "train_generator = train_datagen.flow_from_directory(TRAIN_DIR,\n",
    "                                                    target_size=(HEIGHT, WIDTH),\n",
    "                                                    batch_size=BATCH_SIZE)"
   ]
  },
  {
   "cell_type": "code",
   "execution_count": 4,
   "metadata": {},
   "outputs": [],
   "source": [
    "def build_finetune_model(base_model, dropout, fc_layers, num_classes):\n",
    "    for layer in base_model.layers:\n",
    "        layer.trainable = False\n",
    "\n",
    "    x = base_model.output\n",
    "    x = Flatten()(x)\n",
    "    for fc in fc_layers:\n",
    "        # New FC layer, random init\n",
    "        x = Dense(fc, activation='relu')(x) \n",
    "        x = Dropout(dropout)(x)\n",
    "\n",
    "    # New softmax layer\n",
    "    predictions = Dense(num_classes, activation='sigmoid')(x) \n",
    "    \n",
    "    finetune_model = Model(inputs=base_model.input, outputs=predictions)\n",
    "\n",
    "    return finetune_model"
   ]
  },
  {
   "cell_type": "code",
   "execution_count": 5,
   "metadata": {},
   "outputs": [],
   "source": [
    "# Top Layer constants\n",
    "FC_LAYERS = [128,128,128, 128]\n",
    "DROPOUT = 0.1\n",
    "\n",
    "finetune_model = build_finetune_model(base_model, \n",
    "                                      dropout=DROPOUT, \n",
    "                                      fc_layers=FC_LAYERS, \n",
    "                                      num_classes=NUM_CLASSES)\n",
    "\n",
    "#finetune_model.summary()"
   ]
  },
  {
   "cell_type": "code",
   "execution_count": 6,
   "metadata": {},
   "outputs": [
    {
     "name": "stdout",
     "output_type": "stream",
     "text": [
      "Found 60 images belonging to 60 classes.\n",
      "Img1 - real: 0, pred: 210\n",
      "Img2 - real: 6, pred: 48\n",
      "Img3 - real: 12, pred: 48\n"
     ]
    },
    {
     "data": {
      "image/png": "[encoded data removed]",
      "text/plain": [
       "<Figure size 432x288 with 3 Axes>"
      ]
     },
     "metadata": {
      "needs_background": "light"
     },
     "output_type": "display_data"
    }
   ],
   "source": [
    "#Testing the model\n",
    "TEST_DIR = \"simple_clock/Datagenerator_simple_clock/Testing\"\n",
    "\n",
    "IMG_PATH_1 = \"simple_clock/Datagenerator_simple_clock/Testing/0/clock-01.00.00.PNG\"\n",
    "IMG_PATH_2 = \"simple_clock/Datagenerator_simple_clock/Testing/6/clock-04.01.00.PNG\"\n",
    "IMG_PATH_3 = \"simple_clock/Datagenerator_simple_clock/Testing/12/clock-07.02.00.PNG\"\n",
    "\n",
    "test_datagen =  ImageDataGenerator(preprocessing_function=preprocess_input)\n",
    "test_generator = test_datagen.flow_from_directory(TEST_DIR,\n",
    "                                                 target_size=(HEIGHT, WIDTH),\n",
    "                                                 batch_size=1,\n",
    "                                                 class_mode=None,  # only data, no labels\n",
    "                                                 shuffle=False\n",
    "                                                )  \n",
    "\n",
    "preds = finetune_model.predict_generator(test_generator, 60)\n",
    "\n",
    "#visualizing some examples\n",
    "fig = plt.figure()\n",
    "a = fig.add_subplot(1, 3, 1)\n",
    "imgplot = plt.imshow(mpimg.imread(IMG_PATH_1), cmap='gray', vmin=0, vmax=1)\n",
    "a.set_title('Img1') \n",
    "a = fig.add_subplot(1, 3, 2)\n",
    "imgplot = plt.imshow(mpimg.imread(IMG_PATH_2), cmap='gray', vmin=0, vmax=1)\n",
    "a.set_title('Img2') \n",
    "a = fig.add_subplot(1, 3, 3)\n",
    "imgplot = plt.imshow(mpimg.imread(IMG_PATH_3), cmap='gray', vmin=0, vmax=1)\n",
    "a.set_title('Img3') \n",
    "print(\"Img1 - real: 0, pred: %d\" % (np.argmax(preds[0], axis=0)*6))\n",
    "print(\"Img2 - real: 6, pred: %d\" % (np.argmax(preds[1], axis=0)*6))\n",
    "print(\"Img3 - real: 12, pred: %d\" % (np.argmax(preds[2], axis=0)*6))"
   ]
  },
  {
   "cell_type": "code",
   "execution_count": null,
   "metadata": {},
   "outputs": [],
   "source": [
    "# Model loading\n",
    "FILEPATH_LOAD = \"./checkpoints/ResNet50_model_weights.h5\"\n",
    "LOAD_WHOLE_MODEL = FALSE\n",
    "\n",
    "if (LOAD_WHOLE_MODEL):\n",
    "    finetune_model = keras.models.load_model(FILEPATH_LOAD)\n",
    "else:\n",
    "    finetune_model.load_weights(FILEPATH_LOAD)"
   ]
  },
  {
   "cell_type": "code",
   "execution_count": 7,
   "metadata": {},
   "outputs": [
    {
     "name": "stdout",
     "output_type": "stream",
     "text": [
      "Epoch 1/75\n",
      "82/82 [==============================] - 9s 105ms/step - loss: 4.1671 - acc: 0.0076\n",
      "Epoch 2/75\n",
      "82/82 [==============================] - 4s 44ms/step - loss: 3.9854 - acc: 0.0229\n",
      "Epoch 3/75\n",
      "82/82 [==============================] - 3s 42ms/step - loss: 3.6769 - acc: 0.0595\n",
      "Epoch 4/75\n",
      "82/82 [==============================] - 3s 42ms/step - loss: 3.2774 - acc: 0.0762\n",
      "Epoch 5/75\n",
      "82/82 [==============================] - 4s 46ms/step - loss: 3.1990 - acc: 0.0747\n",
      "Epoch 6/75\n",
      "82/82 [==============================] - 4s 43ms/step - loss: 3.0412 - acc: 0.1113\n",
      "Epoch 7/75\n",
      "82/82 [==============================] - 4s 46ms/step - loss: 2.8491 - acc: 0.1128\n",
      "Epoch 8/75\n",
      "82/82 [==============================] - 4s 45ms/step - loss: 2.7336 - acc: 0.0976\n",
      "Epoch 9/75\n",
      "82/82 [==============================] - 4s 44ms/step - loss: 2.6025 - acc: 0.1326\n",
      "Epoch 10/75\n",
      "82/82 [==============================] - 4s 44ms/step - loss: 2.6513 - acc: 0.1585\n",
      "Epoch 11/75\n",
      "82/82 [==============================] - 4s 44ms/step - loss: 2.5682 - acc: 0.1555\n",
      "Epoch 12/75\n",
      "82/82 [==============================] - 4s 43ms/step - loss: 2.5484 - acc: 0.1509\n",
      "Epoch 13/75\n",
      "82/82 [==============================] - 4s 43ms/step - loss: 2.4088 - acc: 0.1875\n",
      "Epoch 14/75\n",
      "82/82 [==============================] - 4s 43ms/step - loss: 2.3129 - acc: 0.1799\n",
      "Epoch 15/75\n",
      "82/82 [==============================] - 4s 46ms/step - loss: 2.3787 - acc: 0.1860\n",
      "Epoch 16/75\n",
      "82/82 [==============================] - 4s 45ms/step - loss: 2.3899 - acc: 0.1585\n",
      "Epoch 17/75\n",
      "82/82 [==============================] - 4s 45ms/step - loss: 2.2561 - acc: 0.1997\n",
      "Epoch 18/75\n",
      "82/82 [==============================] - 4s 46ms/step - loss: 2.3009 - acc: 0.1814\n",
      "Epoch 19/75\n",
      "82/82 [==============================] - 4s 44ms/step - loss: 2.3487 - acc: 0.1997\n",
      "Epoch 20/75\n",
      "82/82 [==============================] - 4s 45ms/step - loss: 2.1986 - acc: 0.2028\n",
      "Epoch 21/75\n",
      "82/82 [==============================] - 4s 45ms/step - loss: 2.2172 - acc: 0.2119\n",
      "Epoch 22/75\n",
      "82/82 [==============================] - 4s 44ms/step - loss: 2.1944 - acc: 0.1966\n",
      "Epoch 23/75\n",
      "82/82 [==============================] - 3s 39ms/step - loss: 2.2387 - acc: 0.2119\n",
      "Epoch 24/75\n",
      "82/82 [==============================] - 3s 41ms/step - loss: 2.1434 - acc: 0.2104\n",
      "Epoch 25/75\n",
      "82/82 [==============================] - 4s 46ms/step - loss: 2.0964 - acc: 0.2409\n",
      "Epoch 26/75\n",
      "82/82 [==============================] - 4s 43ms/step - loss: 2.0870 - acc: 0.2378\n",
      "Epoch 27/75\n",
      "82/82 [==============================] - 3s 40ms/step - loss: 2.1564 - acc: 0.2150\n",
      "Epoch 28/75\n",
      "82/82 [==============================] - 3s 42ms/step - loss: 2.1131 - acc: 0.2134\n",
      "Epoch 29/75\n",
      "82/82 [==============================] - 3s 40ms/step - loss: 2.1544 - acc: 0.2409\n",
      "Epoch 30/75\n",
      "82/82 [==============================] - 3s 42ms/step - loss: 2.0446 - acc: 0.2576\n",
      "Epoch 31/75\n",
      "82/82 [==============================] - 3s 40ms/step - loss: 2.0557 - acc: 0.2546\n",
      "Epoch 32/75\n",
      "82/82 [==============================] - 3s 42ms/step - loss: 1.9697 - acc: 0.2485\n",
      "Epoch 33/75\n",
      "82/82 [==============================] - 4s 44ms/step - loss: 2.0385 - acc: 0.2424\n",
      "Epoch 34/75\n",
      "82/82 [==============================] - 4s 45ms/step - loss: 2.0759 - acc: 0.2470\n",
      "Epoch 35/75\n",
      "82/82 [==============================] - 4s 46ms/step - loss: 1.9692 - acc: 0.2607\n",
      "Epoch 36/75\n",
      "82/82 [==============================] - 4s 45ms/step - loss: 1.9734 - acc: 0.2531\n",
      "Epoch 37/75\n",
      "82/82 [==============================] - 3s 43ms/step - loss: 1.9271 - acc: 0.2942\n",
      "Epoch 38/75\n",
      "82/82 [==============================] - 4s 44ms/step - loss: 2.0029 - acc: 0.2500\n",
      "Epoch 39/75\n",
      "82/82 [==============================] - 4s 44ms/step - loss: 2.0330 - acc: 0.2454\n",
      "Epoch 40/75\n",
      "82/82 [==============================] - 4s 44ms/step - loss: 2.0160 - acc: 0.2637\n",
      "Epoch 41/75\n",
      "82/82 [==============================] - 3s 42ms/step - loss: 1.9184 - acc: 0.2866\n",
      "Epoch 42/75\n",
      "82/82 [==============================] - 3s 42ms/step - loss: 1.9030 - acc: 0.2744\n",
      "Epoch 43/75\n",
      "82/82 [==============================] - 4s 44ms/step - loss: 1.9345 - acc: 0.2683\n",
      "Epoch 44/75\n",
      "82/82 [==============================] - 4s 43ms/step - loss: 1.9558 - acc: 0.2912\n",
      "Epoch 45/75\n",
      "82/82 [==============================] - 4s 43ms/step - loss: 1.7810 - acc: 0.2835\n",
      "Epoch 46/75\n",
      "82/82 [==============================] - 4s 45ms/step - loss: 1.8455 - acc: 0.2774\n",
      "Epoch 47/75\n",
      "82/82 [==============================] - 4s 45ms/step - loss: 1.9352 - acc: 0.2866\n",
      "Epoch 48/75\n",
      "82/82 [==============================] - 3s 43ms/step - loss: 1.8646 - acc: 0.2881\n",
      "Epoch 49/75\n",
      "82/82 [==============================] - 4s 44ms/step - loss: 1.9029 - acc: 0.2805\n",
      "Epoch 50/75\n",
      "82/82 [==============================] - 3s 42ms/step - loss: 1.8650 - acc: 0.2972\n",
      "Epoch 51/75\n",
      "82/82 [==============================] - 3s 43ms/step - loss: 1.8487 - acc: 0.2729\n",
      "Epoch 52/75\n",
      "82/82 [==============================] - 4s 44ms/step - loss: 1.8377 - acc: 0.2942\n",
      "Epoch 53/75\n",
      "82/82 [==============================] - 4s 43ms/step - loss: 1.8299 - acc: 0.2881\n",
      "Epoch 54/75\n",
      "82/82 [==============================] - 4s 43ms/step - loss: 1.8611 - acc: 0.2790\n",
      "Epoch 55/75\n",
      "82/82 [==============================] - 4s 44ms/step - loss: 1.7843 - acc: 0.3049\n",
      "Epoch 56/75\n",
      "82/82 [==============================] - 4s 43ms/step - loss: 1.9030 - acc: 0.2805\n",
      "Epoch 57/75\n",
      "82/82 [==============================] - 4s 44ms/step - loss: 1.7858 - acc: 0.3323\n",
      "Epoch 58/75\n",
      "82/82 [==============================] - 4s 45ms/step - loss: 1.8168 - acc: 0.3095\n",
      "Epoch 59/75\n",
      "82/82 [==============================] - 4s 45ms/step - loss: 1.7830 - acc: 0.2698\n",
      "Epoch 60/75\n",
      "82/82 [==============================] - 4s 43ms/step - loss: 1.7808 - acc: 0.2942\n",
      "Epoch 61/75\n",
      "82/82 [==============================] - 4s 46ms/step - loss: 1.8163 - acc: 0.3018\n",
      "Epoch 62/75\n",
      "82/82 [==============================] - 4s 45ms/step - loss: 1.8133 - acc: 0.2896\n",
      "Epoch 63/75\n",
      "82/82 [==============================] - 4s 46ms/step - loss: 1.7828 - acc: 0.3262\n",
      "Epoch 64/75\n",
      "82/82 [==============================] - 4s 43ms/step - loss: 1.7897 - acc: 0.2866\n",
      "Epoch 65/75\n",
      "82/82 [==============================] - 4s 45ms/step - loss: 1.7336 - acc: 0.3095\n",
      "Epoch 66/75\n",
      "82/82 [==============================] - 4s 45ms/step - loss: 1.7842 - acc: 0.2957\n",
      "Epoch 67/75\n",
      "82/82 [==============================] - 3s 42ms/step - loss: 1.7516 - acc: 0.3323\n",
      "Epoch 68/75\n",
      "82/82 [==============================] - 3s 42ms/step - loss: 1.7293 - acc: 0.3399\n",
      "Epoch 69/75\n",
      "82/82 [==============================] - 4s 45ms/step - loss: 1.7939 - acc: 0.3140\n",
      "Epoch 70/75\n",
      "82/82 [==============================] - 3s 43ms/step - loss: 1.7905 - acc: 0.3019\n",
      "Epoch 71/75\n",
      "82/82 [==============================] - 4s 43ms/step - loss: 1.8233 - acc: 0.2759\n",
      "Epoch 72/75\n",
      "82/82 [==============================] - 4s 44ms/step - loss: 1.7689 - acc: 0.3079\n",
      "Epoch 73/75\n",
      "82/82 [==============================] - 4s 43ms/step - loss: 1.7756 - acc: 0.3338\n",
      "Epoch 74/75\n",
      "82/82 [==============================] - 4s 43ms/step - loss: 1.6700 - acc: 0.3125\n",
      "Epoch 75/75\n",
      "82/82 [==============================] - 3s 42ms/step - loss: 1.7264 - acc: 0.3186\n"
     ]
    }
   ],
   "source": [
    "# Training constants\n",
    "NUM_EPOCHS = 75\n",
    "LEARNING_RATE = 0.0009\n",
    "\n",
    "FILEPATH_SAVE='checkpoints/ResNet50_{}_model_weights.h5'.format(time())\n",
    "FILEPATH_TENSORBOARD_LOG = 'logdir/{}'.format(int(time()))\n",
    "\n",
    "checkpoint = ModelCheckpoint(FILEPATH_SAVE,\n",
    "                             monitor=[\"acc\"],\n",
    "                             verbose=1,\n",
    "                             mode='max'\n",
    "                            )\n",
    "                                               \n",
    "early_stopping = EarlyStopping(monitor='acc',\n",
    "                               min_delta=0.002,\n",
    "                               patience=4,\n",
    "                               verbose=0,\n",
    "                               mode='auto',\n",
    "                               restore_best_weights=True)\n",
    "                                               \n",
    "tensorboard = TensorBoard(log_dir = FILEPATH_TENSORBOARD_LOG)\n",
    "\n",
    "callbacks_list = [tensorboard]\n",
    "\n",
    "adam = Adam(lr=LEARNING_RATE)\n",
    "\n",
    "finetune_model.compile(adam,\n",
    "                       loss='categorical_crossentropy',\n",
    "                       metrics=['accuracy'])\n",
    "\n",
    "history = finetune_model.fit_generator(train_generator, \n",
    "                                       epochs=NUM_EPOCHS,\n",
    "                                       workers=8, \n",
    "                                       steps_per_epoch=NUM_TRAIN_IMAGES // BATCH_SIZE, \n",
    "                                       shuffle=True,\n",
    "                                       callbacks=callbacks_list\n",
    "                                      )"
   ]
  },
  {
   "cell_type": "code",
   "execution_count": 8,
   "metadata": {},
   "outputs": [
    {
     "data": {
      "image/png": "[encoded data removed]",
      "text/plain": [
       "<Figure size 432x288 with 1 Axes>"
      ]
     },
     "metadata": {
      "needs_background": "light"
     },
     "output_type": "display_data"
    }
   ],
   "source": [
    "#Plotting constants\n",
    "PLOT_PATH = 'acc_vs_epochs_resnet50_24_4_19_128_128_128_128.png'\n",
    "\n",
    "acc = history.history['acc']\n",
    "loss = history.history['loss']\n",
    "epochs = range(len(acc))\n",
    "\n",
    "plt.plot(epochs, acc, 'r.')\n",
    "plt.title('Training accuracy')\n",
    "\n",
    "plt.savefig(PLOT_PATH)\n",
    "plt.show()   "
   ]
  },
  {
   "cell_type": "code",
   "execution_count": 9,
   "metadata": {},
   "outputs": [
    {
     "name": "stdout",
     "output_type": "stream",
     "text": [
      "Img1 - real: 0, pred: 39\n",
      "Img2 - real: 6, pred: 49\n",
      "Img3 - real: 12, pred: 49\n"
     ]
    },
    {
     "data": {
      "image/png": "[encoded data removed]",
      "text/plain": [
       "<Figure size 432x288 with 3 Axes>"
      ]
     },
     "metadata": {
      "needs_background": "light"
     },
     "output_type": "display_data"
    }
   ],
   "source": [
    "# Testing the model again\n",
    "preds = finetune_model.predict_generator(test_generator, 60)\n",
    "\n",
    "#visualizing some examples\n",
    "fig = plt.figure()\n",
    "a = fig.add_subplot(1, 3, 1)\n",
    "imgplot = plt.imshow(mpimg.imread(IMG_PATH_1), cmap='gray', vmin=0, vmax=1)\n",
    "a.set_title('Img1') \n",
    "a = fig.add_subplot(1, 3, 2)\n",
    "imgplot = plt.imshow(mpimg.imread(IMG_PATH_2), cmap='gray', vmin=0, vmax=1)\n",
    "a.set_title('Img2') \n",
    "a = fig.add_subplot(1, 3, 3)\n",
    "imgplot = plt.imshow(mpimg.imread(IMG_PATH_3), cmap='gray', vmin=0, vmax=1)\n",
    "a.set_title('Img3') \n",
    "print(\"Img1 - real: 0, pred: %d\" % (np.argmax(preds[0], axis=0)))\n",
    "print(\"Img2 - real: 6, pred: %d\" % (np.argmax(preds[1], axis=0)))\n",
    "print(\"Img3 - real: 12, pred: %d\" % (np.argmax(preds[2], axis=0)))"
   ]
  },
  {
   "cell_type": "code",
   "execution_count": null,
   "metadata": {},
   "outputs": [],
   "source": [
    "# saving Model\n",
    "FILEPATH_SAVE = \"./checkpoints/ResNet50_model_weights.h5\"\n",
    "SAVE_WHOLE_MODEL = FALSE\n",
    "\n",
    "if (SAVE_WHOLE_MODEL):\n",
    "    finetune_model.save(FILEPATH_SAVE)\n",
    "else:\n",
    "    finetune_model.save_weights(FILEPATH_SAVE)"
   ]
  }
 ],
 "metadata": {
  "kernelspec": {
   "display_name": "tfgpu",
   "language": "python",
   "name": "tfgpu"
  },
  "language_info": {
   "codemirror_mode": {
    "name": "ipython",
    "version": 3
   },
   "file_extension": ".py",
   "mimetype": "text/x-python",
   "name": "python",
   "nbconvert_exporter": "python",
   "pygments_lexer": "ipython3",
   "version": "3.6.8"
  }
 },
 "nbformat": 4,
 "nbformat_minor": 2
}
