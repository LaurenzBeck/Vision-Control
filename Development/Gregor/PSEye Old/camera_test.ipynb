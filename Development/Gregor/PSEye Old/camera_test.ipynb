{
 "cells": [
  {
   "cell_type": "code",
   "execution_count": 6,
   "metadata": {},
   "outputs": [
    {
     "name": "stdout",
     "output_type": "stream",
     "text": [
      "0.950377941132\n",
      "opencv_frame_1.png\n",
      "0.00353002548218\n",
      "opencv_frame_2.png\n",
      "0.00357604026794\n",
      "opencv_frame_3.png\n",
      "0.00348806381226\n",
      "opencv_frame_4.png\n",
      "0.00367403030396\n",
      "opencv_frame_5.png\n"
     ]
    }
   ],
   "source": [
    "import cv2\n",
    "import time\n",
    "\n",
    "\n",
    "img_counter = 1\n",
    "#video = cv2.VideoCapture(0)\n",
    "\n",
    "img_file_path = \"./pictures_test/\"\n",
    "\n",
    "video = cv2.VideoCapture(0)\n",
    "\n",
    "for a in range(5):\n",
    "    t0 = time.time()\n",
    "    frame = 0;\n",
    "    \n",
    "    #video = cv2.VideoCapture(0)\n",
    "    \n",
    "    check, frame = video.read()\n",
    "    #print(frame)\n",
    "    #video.release()\n",
    "    \n",
    "    t1 = time.time()\n",
    "    print(t1-t0)\n",
    "    img_name = \"opencv_frame_{}.png\".format(img_counter)\n",
    "    #cv2.imwrite(img_name, frame)\n",
    "    cv2.imwrite(str(img_file_path+img_name), frame)\n",
    "    img_counter += 1\n",
    "    print(img_name)\n",
    "    #video.release()\n",
    "    time.sleep(1)\n",
    "    #cv2.waitKey(100)\n",
    "\n",
    "video.release()"
   ]
  },
  {
   "cell_type": "code",
   "execution_count": null,
   "metadata": {},
   "outputs": [],
   "source": [
    "import cv2\n",
    "import time\n",
    "\n",
    "\n",
    "img_counter = 1\n",
    "#video = cv2.VideoCapture(0)\n",
    "\n",
    "img_file_path = \"./pictures_test/\"\n",
    "\n",
    "t0 = time.time()\n",
    "\n",
    "while (time.time()-t0)<2.0:\n",
    "    t1 = time.time()\n",
    "    video = cv2.VideoCapture(0)\n",
    "    print('video_capture: ' + str(time.time()-t1))\n",
    "    \n",
    "    t1 = time.time()\n",
    "    check, frame = video.read()\n",
    "    print('video_read: ' + str(time.time()-t1))\n",
    "    \n",
    "    t2 = time.time()\n",
    "    img_name = \"opencv_frame_{}.png\".format(img_counter)\n",
    "    print('img_name: ' + str(time.time()-t2))\n",
    "    \n",
    "    t3 = time.time()\n",
    "    cv2.imwrite(str(img_file_path+img_name), frame)\n",
    "    print('imwrite: ' + str(time.time()-t3))\n",
    "    \n",
    "    t4 = time.time()\n",
    "    img_counter += 1\n",
    "    print('img_counter: ' + str(time.time()-t4))\n",
    "    \n",
    "    t5 = time.time()\n",
    "    print(img_name)\n",
    "    print('print: ' + str(time.time()-t5))\n",
    "    \n",
    "    t6 = time.time()    \n",
    "    video.release()\n",
    "    print('release: ' + str(time.time()-t6))\n",
    "    \n",
    "print(\"FERTIG\")"
   ]
  },
  {
   "cell_type": "code",
   "execution_count": 17,
   "metadata": {},
   "outputs": [
    {
     "ename": "error",
     "evalue": "OpenCV(3.4.2) /tmp/build/80754af9/opencv-suite_1535558553474/work/modules/highgui/src/window.cpp:356: error: (-215:Assertion failed) size.width>0 && size.height>0 in function 'imshow'\n",
     "output_type": "error",
     "traceback": [
      "\u001b[0;31m\u001b[0m",
      "\u001b[0;31merror\u001b[0mTraceback (most recent call last)",
      "\u001b[0;32m<ipython-input-17-d878ddd013e5>\u001b[0m in \u001b[0;36m<module>\u001b[0;34m()\u001b[0m\n\u001b[1;32m     12\u001b[0m \u001b[0;34m\u001b[0m\u001b[0m\n\u001b[1;32m     13\u001b[0m     \u001b[0;31m# Display the resulting frame\u001b[0m\u001b[0;34m\u001b[0m\u001b[0;34m\u001b[0m\u001b[0m\n\u001b[0;32m---> 14\u001b[0;31m     \u001b[0mcv2\u001b[0m\u001b[0;34m.\u001b[0m\u001b[0mimshow\u001b[0m\u001b[0;34m(\u001b[0m\u001b[0;34m'frame'\u001b[0m\u001b[0;34m,\u001b[0m\u001b[0mframe\u001b[0m\u001b[0;34m)\u001b[0m\u001b[0;34m\u001b[0m\u001b[0m\n\u001b[0m\u001b[1;32m     15\u001b[0m \u001b[0;34m\u001b[0m\u001b[0m\n\u001b[1;32m     16\u001b[0m \u001b[0;34m\u001b[0m\u001b[0m\n",
      "\u001b[0;31merror\u001b[0m: OpenCV(3.4.2) /tmp/build/80754af9/opencv-suite_1535558553474/work/modules/highgui/src/window.cpp:356: error: (-215:Assertion failed) size.width>0 && size.height>0 in function 'imshow'\n"
     ]
    }
   ],
   "source": [
    "import numpy as np\n",
    "import cv2\n",
    "\n",
    "cap = cv2.VideoCapture(0)\n",
    "\n",
    "while(True):\n",
    "    # Capture frame-by-frame\n",
    "    ret, frame = cap.read()\n",
    "\n",
    "    # Our operations on the frame come here\n",
    "    #gray = cv2.cvtColor(frame, cv2.COLOR_BGR2GRAY)\n",
    "\n",
    "    # Display the resulting frame\n",
    "    cv2.imshow('frame',frame)\n",
    "    \n",
    "    \n",
    "    if cv2.waitKey(1) & 0xFF == ord('q'):\n",
    "        break\n",
    "\n",
    "# When everything done, release the capture\n",
    "cap.release()\n",
    "cv2.destroyAllWindows()"
   ]
  },
  {
   "cell_type": "code",
   "execution_count": null,
   "metadata": {},
   "outputs": [],
   "source": []
  }
 ],
 "metadata": {
  "kernelspec": {
   "display_name": "Python 3",
   "language": "python",
   "name": "python3"
  },
  "language_info": {
   "codemirror_mode": {
    "name": "ipython",
    "version": 3
   },
   "file_extension": ".py",
   "mimetype": "text/x-python",
   "name": "python",
   "nbconvert_exporter": "python",
   "pygments_lexer": "ipython3",
   "version": "3.7.3"
  }
 },
 "nbformat": 4,
 "nbformat_minor": 2
}
