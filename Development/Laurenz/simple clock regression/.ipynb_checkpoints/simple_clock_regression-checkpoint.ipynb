{
 "cells": [
  {
   "cell_type": "code",
   "execution_count": 31,
   "metadata": {},
   "outputs": [],
   "source": [
    "import numpy as np\n",
    "import tensorflow as tf\n",
    "import h5py\n",
    "from matplotlib import pyplot as plt\n",
    "from sklearn.model_selection import train_test_split\n",
    "\n",
    "%matplotlib inline"
   ]
  },
  {
   "cell_type": "code",
   "execution_count": 32,
   "metadata": {},
   "outputs": [],
   "source": [
    "# open the dataset\n",
    "with h5py.File('simple_clock.hdf5', 'r') as f:\n",
    "    x = f['training_input'][:]\n",
    "    y = f['output_labels'][:]"
   ]
  },
  {
   "cell_type": "code",
   "execution_count": 33,
   "metadata": {},
   "outputs": [],
   "source": [
    "#normalizing the data\n",
    "x = x/255"
   ]
  },
  {
   "cell_type": "code",
   "execution_count": 34,
   "metadata": {},
   "outputs": [
    {
     "name": "stdout",
     "output_type": "stream",
     "text": [
      "(720, 65, 62, 3)\n",
      "(720, 2)\n",
      "(612, 65, 62, 3)\n",
      "(612, 65, 62, 3)\n",
      "(108, 65, 62, 3)\n",
      "(108, 2)\n"
     ]
    }
   ],
   "source": [
    "#train/test split\n",
    "x_train, x_test, y_train, y_test = train_test_split(x, y, test_size=0.15, random_state=42)\n",
    "\n",
    "print(x.shape)\n",
    "print(y.shape)\n",
    "print(x_train.shape)\n",
    "print(x_train.shape)\n",
    "print(x_test.shape)\n",
    "print(y_test.shape)"
   ]
  },
  {
   "cell_type": "code",
   "execution_count": 35,
   "metadata": {},
   "outputs": [
    {
     "data": {
      "text/plain": [
       "<matplotlib.image.AxesImage at 0x13dbc5350f0>"
      ]
     },
     "execution_count": 35,
     "metadata": {},
     "output_type": "execute_result"
    },
    {
     "data": {
      "image/png": "[encoded data removed]",
      "text/plain": [
       "<Figure size 432x288 with 3 Axes>"
      ]
     },
     "metadata": {
      "needs_background": "light"
     },
     "output_type": "display_data"
    }
   ],
   "source": [
    "#visualizing some examples\n",
    "f, axarr = plt.subplots(1,3)\n",
    "\n",
    "axarr[0].imshow(x[50])\n",
    "axarr[1].imshow(x[145])\n",
    "axarr[2].imshow(x[560])"
   ]
  },
  {
   "cell_type": "code",
   "execution_count": 43,
   "metadata": {},
   "outputs": [
    {
     "name": "stdout",
     "output_type": "stream",
     "text": [
      "_________________________________________________________________\n",
      "Layer (type)                 Output Shape              Param #   \n",
      "=================================================================\n",
      "conv2d_10 (Conv2D)           (None, 63, 60, 360)       10080     \n",
      "_________________________________________________________________\n",
      "max_pooling2d_10 (MaxPooling (None, 31, 30, 360)       0         \n",
      "_________________________________________________________________\n",
      "flatten_5 (Flatten)          (None, 334800)            0         \n",
      "_________________________________________________________________\n",
      "dense_10 (Dense)             (None, 256)               85709056  \n",
      "_________________________________________________________________\n",
      "dense_11 (Dense)             (None, 256)               65792     \n",
      "_________________________________________________________________\n",
      "dense_12 (Dense)             (None, 2)                 514       \n",
      "=================================================================\n",
      "Total params: 85,785,442\n",
      "Trainable params: 85,785,442\n",
      "Non-trainable params: 0\n",
      "_________________________________________________________________\n",
      "Epoch 1/20\n",
      "612/612 [==============================] - 56s 92ms/sample - loss: 100.9101\n",
      "Epoch 2/20\n",
      "612/612 [==============================] - 27s 45ms/sample - loss: 92.1819\n",
      "Epoch 3/20\n",
      "612/612 [==============================] - 27s 44ms/sample - loss: 92.0370\n",
      "Epoch 4/20\n",
      "612/612 [==============================] - 27s 44ms/sample - loss: 91.7211\n",
      "Epoch 5/20\n",
      "612/612 [==============================] - 27s 44ms/sample - loss: 90.4522\n",
      "Epoch 6/20\n",
      "612/612 [==============================] - 27s 44ms/sample - loss: 92.3221\n",
      "Epoch 7/20\n",
      "612/612 [==============================] - 26s 42ms/sample - loss: 91.2570\n",
      "Epoch 8/20\n",
      "612/612 [==============================] - 26s 42ms/sample - loss: 91.7206\n",
      "Epoch 9/20\n",
      "612/612 [==============================] - 26s 43ms/sample - loss: 91.9483\n",
      "Epoch 10/20\n",
      "612/612 [==============================] - 27s 44ms/sample - loss: 89.4421\n",
      "Epoch 11/20\n",
      "612/612 [==============================] - 27s 43ms/sample - loss: 89.8589\n",
      "Epoch 12/20\n",
      "612/612 [==============================] - 26s 43ms/sample - loss: 89.2447\n",
      "Epoch 13/20\n",
      "612/612 [==============================] - 27s 44ms/sample - loss: 88.7324\n",
      "Epoch 14/20\n",
      "612/612 [==============================] - 26s 42ms/sample - loss: 87.7084\n",
      "Epoch 15/20\n",
      "612/612 [==============================] - 25s 41ms/sample - loss: 84.8095\n",
      "Epoch 16/20\n",
      "612/612 [==============================] - 25s 40ms/sample - loss: 81.1395\n",
      "Epoch 17/20\n",
      "612/612 [==============================] - 25s 41ms/sample - loss: 76.9991\n",
      "Epoch 18/20\n",
      "612/612 [==============================] - 26s 42ms/sample - loss: 73.4086\n",
      "Epoch 19/20\n",
      "612/612 [==============================] - 24s 40ms/sample - loss: 67.5514\n",
      "Epoch 20/20\n",
      "612/612 [==============================] - 25s 41ms/sample - loss: 69.2761\n",
      "108/108 [==============================] - 6s 59ms/sample - loss: 59.1192\n"
     ]
    }
   ],
   "source": [
    "#Convolutional Neural Network implementation\n",
    "\n",
    "model = tf.keras.models.Sequential([\n",
    "  tf.keras.layers.Conv2D(360, (3,3), activation='relu', input_shape=(65, 62, 3)),\n",
    "  tf.keras.layers.MaxPooling2D(2, 2),\n",
    "  #tf.keras.layers.Conv2D(64, (3,3), activation='relu'),\n",
    "  #tf.keras.layers.MaxPooling2D(2,2),\n",
    "  tf.keras.layers.Flatten(),\n",
    "  tf.keras.layers.Dense(256, activation='relu'),\n",
    "  tf.keras.layers.Dense(256, activation='relu'),\n",
    "  tf.keras.layers.Dense(2, activation='linear')\n",
    "])\n",
    "model.compile(optimizer='adam', loss='mean_absolute_error')\n",
    "model.summary()\n",
    "model.fit(x_train, y_train, epochs=20)\n",
    "test_loss = model.evaluate(x_test, y_test)"
   ]
  },
  {
   "cell_type": "code",
   "execution_count": null,
   "metadata": {},
   "outputs": [],
   "source": [
    "model.save('first_model.h5py')"
   ]
  },
  {
   "cell_type": "code",
   "execution_count": null,
   "metadata": {},
   "outputs": [],
   "source": []
  }
 ],
 "metadata": {
  "kernelspec": {
   "display_name": "Python 3",
   "language": "python",
   "name": "python3"
  },
  "language_info": {
   "codemirror_mode": {
    "name": "ipython",
    "version": 3
   },
   "file_extension": ".py",
   "mimetype": "text/x-python",
   "name": "python",
   "nbconvert_exporter": "python",
   "pygments_lexer": "ipython3",
   "version": "3.7.1"
  }
 },
 "nbformat": 4,
 "nbformat_minor": 2
}
