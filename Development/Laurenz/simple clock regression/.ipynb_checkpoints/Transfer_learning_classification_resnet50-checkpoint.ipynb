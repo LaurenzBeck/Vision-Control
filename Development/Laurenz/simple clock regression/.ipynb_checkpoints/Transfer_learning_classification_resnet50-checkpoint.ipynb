{
 "cells": [
  {
   "cell_type": "code",
   "execution_count": null,
   "metadata": {},
   "outputs": [],
   "source": [
    "import pandas as pd\n",
    "import numpy as np\n",
    "import tensorflow as tf\n",
    "import os\n",
    "import keras\n",
    "import matplotlib.pyplot as plt\n",
    "import matplotlib.image as mpimg\n",
    "\n",
    "from keras.layers import Dense,GlobalAveragePooling2D, Activation, Flatten, Dropout\n",
    "from keras.applications.resnet50 import ResNet50, preprocess_input\n",
    "from keras.preprocessing import image\n",
    "from keras.preprocessing.image import ImageDataGenerator\n",
    "from keras.models import Sequential, Model\n",
    "from keras.optimizers import Adam\n",
    "from keras.callbacks import ModelCheckpoint, EarlyStopping\n",
    "from keras import backend as K\n",
    "\n",
    "%matplotlib inline\n",
    "print(tf.keras.__version__)\n",
    "print(K.tensorflow_backend._get_available_gpus())"
   ]
  },
  {
   "cell_type": "code",
   "execution_count": null,
   "metadata": {},
   "outputs": [],
   "source": [
    "# Input constants\n",
    "HEIGHT = 65\n",
    "WIDTH = 62\n",
    "CHANNELS = 3\n",
    "NUM_CLASSES = 60\n",
    "NUM_TRAIN_IMAGES = 660\n",
    "\n",
    "base_model = ResNet50(weights='imagenet', \n",
    "                      include_top=False, \n",
    "                      input_shape=(HEIGHT, WIDTH, CHANNELS))"
   ]
  },
  {
   "cell_type": "code",
   "execution_count": null,
   "metadata": {},
   "outputs": [],
   "source": [
    "# Data Generator constants\n",
    "TRAIN_DIR = \"simple_clock/Datagenerator_simple_clock/Training\"\n",
    "BATCH_SIZE = 8\n",
    "\n",
    "train_datagen =  ImageDataGenerator(preprocessing_function=preprocess_input,\n",
    "                                    #rotation_range=0,\n",
    "                                    #horizontal_flip=False,\n",
    "                                    #vertical_flip=False,\n",
    "                                    width_shift_range=0.03,\n",
    "                                    height_shift_range=0.03,\n",
    "                                    #shear_range=0.0,\n",
    "                                    #zoom_range=0,\n",
    "                                    )\n",
    "\n",
    "train_generator = train_datagen.flow_from_directory(TRAIN_DIR,\n",
    "                                                    target_size=(HEIGHT, WIDTH),\n",
    "                                                    batch_size=BATCH_SIZE)"
   ]
  },
  {
   "cell_type": "code",
   "execution_count": null,
   "metadata": {},
   "outputs": [],
   "source": [
    "def build_finetune_model(base_model, dropout, fc_layers, num_classes):\n",
    "    for layer in base_model.layers:\n",
    "        layer.trainable = False\n",
    "\n",
    "    x = base_model.output\n",
    "    x = Flatten()(x)\n",
    "    for fc in fc_layers:\n",
    "        # New FC layer, random init\n",
    "        x = Dense(fc, activation='relu')(x) \n",
    "        x = Dropout(dropout)(x)\n",
    "\n",
    "    # New softmax layer\n",
    "    predictions = Dense(num_classes, activation='sigmoid')(x) \n",
    "    \n",
    "    finetune_model = Model(inputs=base_model.input, outputs=predictions)\n",
    "\n",
    "    return finetune_model"
   ]
  },
  {
   "cell_type": "code",
   "execution_count": null,
   "metadata": {},
   "outputs": [],
   "source": [
    "# Top Layer constants\n",
    "FC_LAYERS = [100, 100, 100, 100]\n",
    "DROPOUT = 0.05\n",
    "\n",
    "finetune_model = build_finetune_model(base_model, \n",
    "                                      dropout=DROPOUT, \n",
    "                                      fc_layers=FC_LAYERS, \n",
    "                                      num_classes=NUM_CLASSES)\n",
    "\n",
    "finetune_model.summary()"
   ]
  },
  {
   "cell_type": "code",
   "execution_count": 18,
   "metadata": {},
   "outputs": [
    {
     "name": "stdout",
     "output_type": "stream",
     "text": [
      "Found 60 images belonging to 60 classes.\n"
     ]
    },
    {
     "ename": "AttributeError",
     "evalue": "'DirectoryIterator' object has no attribute 'shape'",
     "output_type": "error",
     "traceback": [
      "\u001b[1;31m---------------------------------------------------------------------------\u001b[0m",
      "\u001b[1;31mAttributeError\u001b[0m                            Traceback (most recent call last)",
      "\u001b[1;32m<ipython-input-18-b68e2371715b>\u001b[0m in \u001b[0;36m<module>\u001b[1;34m\u001b[0m\n\u001b[0;32m     12\u001b[0m \u001b[0mpreds\u001b[0m \u001b[1;33m=\u001b[0m \u001b[0mfinetune_model\u001b[0m\u001b[1;33m.\u001b[0m\u001b[0mpredict_generator\u001b[0m\u001b[1;33m(\u001b[0m\u001b[0mtest_generator\u001b[0m\u001b[1;33m,\u001b[0m \u001b[1;36m60\u001b[0m\u001b[1;33m)\u001b[0m\u001b[1;33m\u001b[0m\u001b[1;33m\u001b[0m\u001b[0m\n\u001b[0;32m     13\u001b[0m \u001b[1;33m\u001b[0m\u001b[0m\n\u001b[1;32m---> 14\u001b[1;33m \u001b[0mprint\u001b[0m\u001b[1;33m(\u001b[0m\u001b[0mtest_generator\u001b[0m\u001b[1;33m.\u001b[0m\u001b[0mshape\u001b[0m\u001b[1;33m)\u001b[0m\u001b[1;33m\u001b[0m\u001b[1;33m\u001b[0m\u001b[0m\n\u001b[0m",
      "\u001b[1;31mAttributeError\u001b[0m: 'DirectoryIterator' object has no attribute 'shape'"
     ]
    }
   ],
   "source": [
    "#Testing the model\n",
    "TEST_DIR = \"simple_clock/Datagenerator_simple_clock/Testing\"\n",
    "\n",
    "IMG_PATH_1 = \"simple_clock/Datagenerator_simple_clock/Testing/0/clock-01.00.00.PNG\"\n",
    "IMG_PATH_2 = \"simple_clock/Datagenerator_simple_clock/Testing/6/clock-04.01.00.PNG\"\n",
    "IMG_PATH_3 = \"simple_clock/Datagenerator_simple_clock/Testing/12/clock-07.02.00.PNG\"\n",
    "\n",
    "test_datagen =  ImageDataGenerator(preprocessing_function=preprocess_input)\n",
    "test_generator = test_datagen.flow_from_directory(TEST_DIR,\n",
    "                                             target_size=(HEIGHT, WIDTH),\n",
    "                                             batch_size=1,\n",
    "                                             class_mode=None,  # only data, no labels\n",
    "                                             shuffle=False\n",
    "                                            )  \n",
    "\n",
    "preds = finetune_model.predict_generator(test_generator, 60)\n",
    "\n",
    "print(test_generator.shape)"
   ]
  },
  {
   "cell_type": "code",
   "execution_count": null,
   "metadata": {},
   "outputs": [],
   "source": [
    "#visualizing some examples\n",
    "f, axarr = plt.subplots(1,3)\n",
    "\n",
    "axarr[0].imshow(test_generator[1][1].reshape(65,62), cmap='gray', vmin=0, vmax=1)\n",
    "axarr[1].imshow(test_generator[10][1], cmap='gray', vmin=0, vmax=1)\n",
    "axarr[2].imshow(test_generator[20][1], cmap='gray', vmin=0, vmax=1)"
   ]
  },
  {
   "cell_type": "code",
   "execution_count": null,
   "metadata": {},
   "outputs": [],
   "source": [
    "# Training constants\n",
    "NUM_EPOCHS = 125\n",
    "LEARNING_RATE = 0.00001\n",
    "\n",
    "###optional - loading weights\n",
    "#finetune_model.load_weights('checkpoints/ResNet50_model_weights.h5')\n",
    "\n",
    "filepath=\"./checkpoints/\" + \"ResNet50\" + \"_model_weights.h5\"\n",
    "\n",
    "checkpoint = ModelCheckpoint(filepath,\n",
    "                             monitor=[\"acc\"],\n",
    "                             verbose=1,\n",
    "                             mode='max'\n",
    "                            )\n",
    "#early_stopping = EarlyStopping(monitor='acc', min_delta=0.002, patience=4, verbose=0, mode='auto', restore_best_weights=True)\n",
    "\n",
    "callbacks_list = [checkpoint]\n",
    "\n",
    "adam = Adam(lr=LEARNING_RATE)\n",
    "\n",
    "finetune_model.compile(adam,\n",
    "                       loss='categorical_crossentropy',\n",
    "                       metrics=['accuracy'])\n",
    "\n",
    "history = finetune_model.fit_generator(train_generator, \n",
    "                                       epochs=NUM_EPOCHS,\n",
    "                                       workers=8, \n",
    "                                       steps_per_epoch=NUM_TRAIN_IMAGES // BATCH_SIZE, \n",
    "                                       shuffle=True,\n",
    "                                       callbacks=callbacks_list)"
   ]
  },
  {
   "cell_type": "code",
   "execution_count": null,
   "metadata": {},
   "outputs": [],
   "source": [
    "# Evaluate the model\n",
    "finetune_model.evaluate_generator(generator=test_generator)"
   ]
  },
  {
   "cell_type": "code",
   "execution_count": 14,
   "metadata": {},
   "outputs": [
    {
     "data": {
      "image/png": "[encoded data removed]",
      "text/plain": [
       "<Figure size 432x288 with 1 Axes>"
      ]
     },
     "metadata": {
      "needs_background": "light"
     },
     "output_type": "display_data"
    }
   ],
   "source": [
    "#Plotting constants\n",
    "PLOT_PATH = 'acc_vs_epochs.png'\n",
    "\n",
    "acc = history.history['acc']\n",
    "loss = history.history['loss']\n",
    "epochs = range(len(acc))\n",
    "\n",
    "plt.plot(epochs, acc, 'r.')\n",
    "plt.title('Training accuracy')\n",
    "\n",
    "plt.savefig(PLOT_PATH)\n",
    "plt.show()   "
   ]
  },
  {
   "cell_type": "code",
   "execution_count": null,
   "metadata": {},
   "outputs": [],
   "source": []
  }
 ],
 "metadata": {
  "kernelspec": {
   "display_name": "tfgpu",
   "language": "python",
   "name": "tfgpu"
  },
  "language_info": {
   "codemirror_mode": {
    "name": "ipython",
    "version": 3
   },
   "file_extension": ".py",
   "mimetype": "text/x-python",
   "name": "python",
   "nbconvert_exporter": "python",
   "pygments_lexer": "ipython3",
   "version": "3.6.8"
  }
 },
 "nbformat": 4,
 "nbformat_minor": 2
}
