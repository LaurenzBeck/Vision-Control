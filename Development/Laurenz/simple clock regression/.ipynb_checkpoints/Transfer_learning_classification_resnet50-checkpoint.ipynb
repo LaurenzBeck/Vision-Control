{
 "cells": [
  {
   "cell_type": "code",
   "execution_count": 1,
   "metadata": {},
   "outputs": [
    {
     "name": "stderr",
     "output_type": "stream",
     "text": [
      "Using TensorFlow backend.\n"
     ]
    }
   ],
   "source": [
    "import pandas as pd\n",
    "import numpy as np\n",
    "import os\n",
    "import keras\n",
    "import matplotlib.pyplot as plt\n",
    "from keras.layers import Dense,GlobalAveragePooling2D\n",
    "from keras.applications import MobileNet\n",
    "from keras.preprocessing import image\n",
    "from keras.applications.mobilenet import preprocess_input\n",
    "from keras.preprocessing.image import ImageDataGenerator\n",
    "from keras.models import Model\n",
    "from keras.optimizers import Adam\n"
   ]
  },
  {
   "cell_type": "code",
   "execution_count": 2,
   "metadata": {},
   "outputs": [
    {
     "name": "stdout",
     "output_type": "stream",
     "text": [
      "WARNING:tensorflow:From /home/laurenz/anaconda3/envs/tf/lib/python3.7/site-packages/tensorflow/python/framework/op_def_library.py:263: colocate_with (from tensorflow.python.framework.ops) is deprecated and will be removed in a future version.\n",
      "Instructions for updating:\n",
      "Colocations handled automatically by placer.\n"
     ]
    },
    {
     "name": "stderr",
     "output_type": "stream",
     "text": [
      "/home/laurenz/anaconda3/envs/tf/lib/python3.7/site-packages/keras_applications/resnet50.py:265: UserWarning: The output shape of `ResNet50(include_top=False)` has been changed since Keras 2.2.0.\n",
      "  warnings.warn('The output shape of `ResNet50(include_top=False)` '\n"
     ]
    },
    {
     "name": "stdout",
     "output_type": "stream",
     "text": [
      "Downloading data from https://github.com/fchollet/deep-learning-models/releases/download/v0.2/resnet50_weights_tf_dim_ordering_tf_kernels_notop.h5\n",
      "94658560/94653016 [==============================] - 31s 0us/step\n"
     ]
    }
   ],
   "source": [
    "from keras.applications.resnet50 import ResNet50, preprocess_input\n",
    "\n",
    "HEIGHT = 65\n",
    "WIDTH = 62\n",
    "\n",
    "base_model = ResNet50(weights='imagenet', \n",
    "                      include_top=False, \n",
    "input_shape=(HEIGHT, WIDTH, 3))"
   ]
  },
  {
   "cell_type": "code",
   "execution_count": 3,
   "metadata": {},
   "outputs": [
    {
     "name": "stdout",
     "output_type": "stream",
     "text": [
      "Found 660 images belonging to 60 classes.\n"
     ]
    }
   ],
   "source": [
    "from keras.preprocessing.image import ImageDataGenerator\n",
    "\n",
    "TRAIN_DIR = \"simple_clock/Datagenerator_simple_clock/Training\"\n",
    "BATCH_SIZE = 10\n",
    "\n",
    "train_datagen =  ImageDataGenerator(\n",
    "      preprocessing_function=preprocess_input,\n",
    "      rotation_range=5,\n",
    "      horizontal_flip=False,\n",
    "      vertical_flip=False,\n",
    "      width_shift_range=0.1,\n",
    "      height_shift_range=0.1,\n",
    "      shear_range=0.1,\n",
    "      zoom_range=0.15,\n",
    "    )\n",
    "\n",
    "train_generator = train_datagen.flow_from_directory(TRAIN_DIR, target_size=(HEIGHT, WIDTH), batch_size=BATCH_SIZE)"
   ]
  },
  {
   "cell_type": "code",
   "execution_count": 4,
   "metadata": {},
   "outputs": [],
   "source": [
    "from keras.layers import Dense, Activation, Flatten, Dropout\n",
    "from keras.models import Sequential, Model\n",
    "\n",
    "def build_finetune_model(base_model, dropout, fc_layers, num_classes):\n",
    "    for layer in base_model.layers:\n",
    "        layer.trainable = False\n",
    "\n",
    "    x = base_model.output\n",
    "    x = Flatten()(x)\n",
    "    for fc in fc_layers:\n",
    "        # New FC layer, random init\n",
    "        x = Dense(fc, activation='relu')(x) \n",
    "        x = Dropout(dropout)(x)\n",
    "\n",
    "    # New softmax layer\n",
    "    predictions = Dense(num_classes, activation='sigmoid')(x) \n",
    "    \n",
    "    finetune_model = Model(inputs=base_model.input, outputs=predictions)\n",
    "\n",
    "    return finetune_model"
   ]
  },
  {
   "cell_type": "code",
   "execution_count": 5,
   "metadata": {},
   "outputs": [
    {
     "name": "stdout",
     "output_type": "stream",
     "text": [
      "WARNING:tensorflow:From /home/laurenz/anaconda3/envs/tf/lib/python3.7/site-packages/keras/backend/tensorflow_backend.py:3445: calling dropout (from tensorflow.python.ops.nn_ops) with keep_prob is deprecated and will be removed in a future version.\n",
      "Instructions for updating:\n",
      "Please use `rate` instead of `keep_prob`. Rate should be set to `rate = 1 - keep_prob`.\n"
     ]
    }
   ],
   "source": [
    "FC_LAYERS = [512, 512]\n",
    "dropout = 0.15\n",
    "\n",
    "finetune_model = build_finetune_model(base_model, \n",
    "                                      dropout=dropout, \n",
    "                                      fc_layers=FC_LAYERS, \n",
    "                                      num_classes=60)"
   ]
  },
  {
   "cell_type": "code",
   "execution_count": 8,
   "metadata": {},
   "outputs": [
    {
     "name": "stdout",
     "output_type": "stream",
     "text": [
      "Epoch 1/50\n",
      "66/66 [==============================] - 15s 223ms/step - loss: 4.0690 - acc: 0.0333\n",
      "\n",
      "Epoch 00001: saving model to ./checkpoints/ResNet50_model_weights.h5\n",
      "Epoch 2/50\n",
      "66/66 [==============================] - 11s 162ms/step - loss: 4.0090 - acc: 0.0379\n",
      "\n",
      "Epoch 00002: saving model to ./checkpoints/ResNet50_model_weights.h5\n",
      "Epoch 3/50\n",
      "66/66 [==============================] - 10s 157ms/step - loss: 3.8961 - acc: 0.0545\n",
      "\n",
      "Epoch 00003: saving model to ./checkpoints/ResNet50_model_weights.h5\n",
      "Epoch 4/50\n",
      "66/66 [==============================] - 11s 170ms/step - loss: 3.8475 - acc: 0.0682\n",
      "\n",
      "Epoch 00004: saving model to ./checkpoints/ResNet50_model_weights.h5\n",
      "Epoch 5/50\n",
      "66/66 [==============================] - 11s 168ms/step - loss: 3.7771 - acc: 0.0833\n",
      "\n",
      "Epoch 00005: saving model to ./checkpoints/ResNet50_model_weights.h5\n",
      "Epoch 6/50\n",
      "66/66 [==============================] - 11s 161ms/step - loss: 3.6950 - acc: 0.1121\n",
      "\n",
      "Epoch 00006: saving model to ./checkpoints/ResNet50_model_weights.h5\n",
      "Epoch 7/50\n",
      "66/66 [==============================] - 11s 164ms/step - loss: 3.6415 - acc: 0.1318\n",
      "\n",
      "Epoch 00007: saving model to ./checkpoints/ResNet50_model_weights.h5\n",
      "Epoch 8/50\n",
      "66/66 [==============================] - 11s 166ms/step - loss: 3.5512 - acc: 0.1667\n",
      "\n",
      "Epoch 00008: saving model to ./checkpoints/ResNet50_model_weights.h5\n",
      "Epoch 9/50\n",
      "66/66 [==============================] - 11s 165ms/step - loss: 3.4287 - acc: 0.2015\n",
      "\n",
      "Epoch 00009: saving model to ./checkpoints/ResNet50_model_weights.h5\n",
      "Epoch 10/50\n",
      "66/66 [==============================] - 11s 161ms/step - loss: 3.2960 - acc: 0.2333\n",
      "\n",
      "Epoch 00010: saving model to ./checkpoints/ResNet50_model_weights.h5\n",
      "Epoch 11/50\n",
      "66/66 [==============================] - 11s 166ms/step - loss: 3.1057 - acc: 0.2939\n",
      "\n",
      "Epoch 00011: saving model to ./checkpoints/ResNet50_model_weights.h5\n",
      "Epoch 12/50\n",
      "66/66 [==============================] - 11s 167ms/step - loss: 2.9484 - acc: 0.3197\n",
      "\n",
      "Epoch 00012: saving model to ./checkpoints/ResNet50_model_weights.h5\n",
      "Epoch 13/50\n",
      "66/66 [==============================] - 11s 163ms/step - loss: 2.7217 - acc: 0.3652\n",
      "\n",
      "Epoch 00013: saving model to ./checkpoints/ResNet50_model_weights.h5\n",
      "Epoch 14/50\n",
      "66/66 [==============================] - 11s 169ms/step - loss: 2.5495 - acc: 0.3864\n",
      "\n",
      "Epoch 00014: saving model to ./checkpoints/ResNet50_model_weights.h5\n",
      "Epoch 15/50\n",
      "66/66 [==============================] - 11s 167ms/step - loss: 2.3714 - acc: 0.4424\n",
      "\n",
      "Epoch 00015: saving model to ./checkpoints/ResNet50_model_weights.h5\n",
      "Epoch 16/50\n",
      "66/66 [==============================] - 11s 167ms/step - loss: 2.1632 - acc: 0.4667\n",
      "\n",
      "Epoch 00016: saving model to ./checkpoints/ResNet50_model_weights.h5\n",
      "Epoch 17/50\n",
      "66/66 [==============================] - 11s 162ms/step - loss: 2.0590 - acc: 0.4803\n",
      "\n",
      "Epoch 00017: saving model to ./checkpoints/ResNet50_model_weights.h5\n",
      "Epoch 18/50\n",
      "66/66 [==============================] - 11s 168ms/step - loss: 1.9640 - acc: 0.5167\n",
      "\n",
      "Epoch 00018: saving model to ./checkpoints/ResNet50_model_weights.h5\n",
      "Epoch 19/50\n",
      "66/66 [==============================] - 11s 168ms/step - loss: 1.7787 - acc: 0.5561\n",
      "\n",
      "Epoch 00019: saving model to ./checkpoints/ResNet50_model_weights.h5\n",
      "Epoch 20/50\n",
      "66/66 [==============================] - 11s 163ms/step - loss: 1.6645 - acc: 0.5788\n",
      "\n",
      "Epoch 00020: saving model to ./checkpoints/ResNet50_model_weights.h5\n",
      "Epoch 21/50\n",
      "66/66 [==============================] - 11s 170ms/step - loss: 1.5635 - acc: 0.5939\n",
      "\n",
      "Epoch 00021: saving model to ./checkpoints/ResNet50_model_weights.h5\n",
      "Epoch 22/50\n",
      "66/66 [==============================] - 11s 168ms/step - loss: 1.4385 - acc: 0.6364\n",
      "\n",
      "Epoch 00022: saving model to ./checkpoints/ResNet50_model_weights.h5\n",
      "Epoch 23/50\n",
      "66/66 [==============================] - 11s 169ms/step - loss: 1.4222 - acc: 0.6409\n",
      "\n",
      "Epoch 00023: saving model to ./checkpoints/ResNet50_model_weights.h5\n",
      "Epoch 24/50\n",
      "66/66 [==============================] - 12s 178ms/step - loss: 1.3678 - acc: 0.6439\n",
      "\n",
      "Epoch 00024: saving model to ./checkpoints/ResNet50_model_weights.h5\n",
      "Epoch 25/50\n",
      "66/66 [==============================] - 11s 173ms/step - loss: 1.3090 - acc: 0.6591\n",
      "\n",
      "Epoch 00025: saving model to ./checkpoints/ResNet50_model_weights.h5\n",
      "Epoch 26/50\n",
      "66/66 [==============================] - 12s 175ms/step - loss: 1.3083 - acc: 0.6591\n",
      "\n",
      "Epoch 00026: saving model to ./checkpoints/ResNet50_model_weights.h5\n",
      "Epoch 27/50\n",
      "66/66 [==============================] - 12s 175ms/step - loss: 1.2565 - acc: 0.6682\n",
      "\n",
      "Epoch 00027: saving model to ./checkpoints/ResNet50_model_weights.h5\n",
      "Epoch 28/50\n",
      "66/66 [==============================] - 11s 174ms/step - loss: 1.1657 - acc: 0.6924\n",
      "\n",
      "Epoch 00028: saving model to ./checkpoints/ResNet50_model_weights.h5\n",
      "Epoch 29/50\n",
      "66/66 [==============================] - 12s 175ms/step - loss: 1.1058 - acc: 0.7000\n",
      "\n",
      "Epoch 00029: saving model to ./checkpoints/ResNet50_model_weights.h5\n",
      "Epoch 30/50\n",
      "66/66 [==============================] - 11s 174ms/step - loss: 1.0105 - acc: 0.7379\n",
      "\n",
      "Epoch 00030: saving model to ./checkpoints/ResNet50_model_weights.h5\n",
      "Epoch 31/50\n",
      "66/66 [==============================] - 12s 175ms/step - loss: 1.0154 - acc: 0.7273\n",
      "\n",
      "Epoch 00031: saving model to ./checkpoints/ResNet50_model_weights.h5\n",
      "Epoch 32/50\n",
      "66/66 [==============================] - 11s 174ms/step - loss: 1.0182 - acc: 0.7591\n",
      "\n",
      "Epoch 00032: saving model to ./checkpoints/ResNet50_model_weights.h5\n",
      "Epoch 33/50\n",
      "66/66 [==============================] - 12s 178ms/step - loss: 0.9548 - acc: 0.7364\n",
      "\n",
      "Epoch 00033: saving model to ./checkpoints/ResNet50_model_weights.h5\n",
      "Epoch 34/50\n",
      "66/66 [==============================] - 12s 178ms/step - loss: 0.8397 - acc: 0.8015\n",
      "\n",
      "Epoch 00034: saving model to ./checkpoints/ResNet50_model_weights.h5\n",
      "Epoch 35/50\n",
      "66/66 [==============================] - 12s 177ms/step - loss: 0.8365 - acc: 0.7818\n",
      "\n",
      "Epoch 00035: saving model to ./checkpoints/ResNet50_model_weights.h5\n",
      "Epoch 36/50\n",
      "66/66 [==============================] - 11s 174ms/step - loss: 0.7966 - acc: 0.7970\n",
      "\n",
      "Epoch 00036: saving model to ./checkpoints/ResNet50_model_weights.h5\n",
      "Epoch 37/50\n",
      "66/66 [==============================] - 12s 180ms/step - loss: 0.8802 - acc: 0.7530\n",
      "\n",
      "Epoch 00037: saving model to ./checkpoints/ResNet50_model_weights.h5\n",
      "Epoch 38/50\n",
      "66/66 [==============================] - 12s 179ms/step - loss: 0.8189 - acc: 0.7712\n",
      "\n",
      "Epoch 00038: saving model to ./checkpoints/ResNet50_model_weights.h5\n",
      "Epoch 39/50\n",
      "66/66 [==============================] - 12s 179ms/step - loss: 0.7387 - acc: 0.7939\n",
      "\n",
      "Epoch 00039: saving model to ./checkpoints/ResNet50_model_weights.h5\n",
      "Epoch 40/50\n",
      "66/66 [==============================] - 12s 176ms/step - loss: 0.7346 - acc: 0.7985\n",
      "\n",
      "Epoch 00040: saving model to ./checkpoints/ResNet50_model_weights.h5\n",
      "Epoch 41/50\n",
      "66/66 [==============================] - 12s 180ms/step - loss: 0.7044 - acc: 0.8152\n",
      "\n",
      "Epoch 00041: saving model to ./checkpoints/ResNet50_model_weights.h5\n",
      "Epoch 42/50\n",
      "66/66 [==============================] - 12s 177ms/step - loss: 0.7028 - acc: 0.8182\n",
      "\n",
      "Epoch 00042: saving model to ./checkpoints/ResNet50_model_weights.h5\n",
      "Epoch 43/50\n",
      "66/66 [==============================] - 12s 180ms/step - loss: 0.7340 - acc: 0.7909\n",
      "\n",
      "Epoch 00043: saving model to ./checkpoints/ResNet50_model_weights.h5\n",
      "Epoch 44/50\n",
      "66/66 [==============================] - 12s 178ms/step - loss: 0.6625 - acc: 0.8348\n",
      "\n",
      "Epoch 00044: saving model to ./checkpoints/ResNet50_model_weights.h5\n",
      "Epoch 45/50\n",
      "66/66 [==============================] - 12s 178ms/step - loss: 0.7034 - acc: 0.7955\n",
      "\n",
      "Epoch 00045: saving model to ./checkpoints/ResNet50_model_weights.h5\n",
      "Epoch 46/50\n",
      "66/66 [==============================] - 12s 189ms/step - loss: 0.6515 - acc: 0.8379\n",
      "\n",
      "Epoch 00046: saving model to ./checkpoints/ResNet50_model_weights.h5\n",
      "Epoch 47/50\n",
      "66/66 [==============================] - 12s 181ms/step - loss: 0.6388 - acc: 0.8515\n",
      "\n",
      "Epoch 00047: saving model to ./checkpoints/ResNet50_model_weights.h5\n",
      "Epoch 48/50\n",
      "66/66 [==============================] - 12s 187ms/step - loss: 0.6154 - acc: 0.8424\n",
      "\n",
      "Epoch 00048: saving model to ./checkpoints/ResNet50_model_weights.h5\n",
      "Epoch 49/50\n",
      "66/66 [==============================] - 12s 178ms/step - loss: 0.6432 - acc: 0.8318\n",
      "\n",
      "Epoch 00049: saving model to ./checkpoints/ResNet50_model_weights.h5\n",
      "Epoch 50/50\n",
      "66/66 [==============================] - 12s 184ms/step - loss: 0.6199 - acc: 0.8364\n",
      "\n",
      "Epoch 00050: saving model to ./checkpoints/ResNet50_model_weights.h5\n"
     ]
    },
    {
     "ename": "NameError",
     "evalue": "name 'plot_training' is not defined",
     "output_type": "error",
     "traceback": [
      "\u001b[0;31m---------------------------------------------------------------------------\u001b[0m",
      "\u001b[0;31mNameError\u001b[0m                                 Traceback (most recent call last)",
      "\u001b[0;32m<ipython-input-8-e0d4e95932eb>\u001b[0m in \u001b[0;36m<module>\u001b[0;34m\u001b[0m\n\u001b[1;32m     18\u001b[0m \u001b[0;34m\u001b[0m\u001b[0m\n\u001b[1;32m     19\u001b[0m \u001b[0;34m\u001b[0m\u001b[0m\n\u001b[0;32m---> 20\u001b[0;31m \u001b[0mplot_training\u001b[0m\u001b[0;34m(\u001b[0m\u001b[0mhistory\u001b[0m\u001b[0;34m)\u001b[0m\u001b[0;34m\u001b[0m\u001b[0;34m\u001b[0m\u001b[0m\n\u001b[0m\u001b[1;32m     21\u001b[0m \u001b[0;34m\u001b[0m\u001b[0m\n\u001b[1;32m     22\u001b[0m \u001b[0;31m# Plot the training and validation loss + accuracy\u001b[0m\u001b[0;34m\u001b[0m\u001b[0;34m\u001b[0m\u001b[0;34m\u001b[0m\u001b[0m\n",
      "\u001b[0;31mNameError\u001b[0m: name 'plot_training' is not defined"
     ]
    }
   ],
   "source": [
    "from keras.optimizers import SGD, Adam\n",
    "from keras.callbacks import ModelCheckpoint\n",
    "\n",
    "NUM_EPOCHS = 100\n",
    "BATCH_SIZE = 10\n",
    "num_train_images = 720-60\n",
    "\n",
    "adam = Adam(lr=0.00001)\n",
    "finetune_model.compile(adam, loss='categorical_crossentropy', metrics=['accuracy'])\n",
    "\n",
    "filepath=\"./checkpoints/\" + \"ResNet50\" + \"_model_weights.h5\"\n",
    "checkpoint = ModelCheckpoint(filepath, monitor=[\"acc\"], verbose=1, mode='max')\n",
    "callbacks_list = [checkpoint]\n",
    "\n",
    "history = finetune_model.fit_generator(train_generator, epochs=NUM_EPOCHS, workers=8, \n",
    "                                       steps_per_epoch=num_train_images // BATCH_SIZE, \n",
    "                                       shuffle=True, callbacks=callbacks_list)\n",
    "\n",
    "\n",
    "\n",
    "\n",
    "# Plot the training and validation loss + accuracy\n"
   ]
  },
  {
   "cell_type": "code",
   "execution_count": 12,
   "metadata": {},
   "outputs": [],
   "source": [
    "def plot_training(history):\n",
    "    acc = history.history['acc']\n",
    "    #val_acc = history.history['val_acc']\n",
    "    loss = history.history['loss']\n",
    "    #val_loss = history.history['val_loss']\n",
    "    epochs = range(len(acc))\n",
    "\n",
    "    plt.plot(epochs, acc, 'r.')\n",
    "    #plt.plot(epochs, val_acc, 'r')\n",
    "    plt.title('Training accuracy')\n",
    "\n",
    "    plt.figure()\n",
    "    # plt.plot(epochs, loss, 'r.')\n",
    "    # plt.plot(epochs, val_loss, 'r-')\n",
    "    # plt.title('Training and validation loss')\n",
    "    plt.show()\n",
    "\n",
    "    plt.savefig('acc_vs_epochs.png')"
   ]
  },
  {
   "cell_type": "code",
   "execution_count": 13,
   "metadata": {},
   "outputs": [
    {
     "data": {
      "image/png": "[encoded data removed]",
      "text/plain": [
       "<Figure size 432x288 with 1 Axes>"
      ]
     },
     "metadata": {
      "needs_background": "light"
     },
     "output_type": "display_data"
    },
    {
     "data": {
      "text/plain": [
       "<Figure size 432x288 with 0 Axes>"
      ]
     },
     "metadata": {},
     "output_type": "display_data"
    },
    {
     "data": {
      "text/plain": [
       "<Figure size 432x288 with 0 Axes>"
      ]
     },
     "metadata": {},
     "output_type": "display_data"
    }
   ],
   "source": [
    "plot_training(history)"
   ]
  },
  {
   "cell_type": "code",
   "execution_count": null,
   "metadata": {},
   "outputs": [],
   "source": []
  }
 ],
 "metadata": {
  "kernelspec": {
   "display_name": "Python 3",
   "language": "python",
   "name": "python3"
  },
  "language_info": {
   "codemirror_mode": {
    "name": "ipython",
    "version": 3
   },
   "file_extension": ".py",
   "mimetype": "text/x-python",
   "name": "python",
   "nbconvert_exporter": "python",
   "pygments_lexer": "ipython3",
   "version": "3.7.3"
  }
 },
 "nbformat": 4,
 "nbformat_minor": 2
}
