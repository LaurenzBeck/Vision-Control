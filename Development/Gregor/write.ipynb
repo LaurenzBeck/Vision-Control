{
 "cells": [
  {
   "cell_type": "code",
   "execution_count": 1,
   "metadata": {},
   "outputs": [],
   "source": [
    "import cv2\n",
    "import time\n",
    "import csv\n",
    "import serial\n",
    "import math\n",
    "import random\n",
    "import struct"
   ]
  },
  {
   "cell_type": "code",
   "execution_count": 3,
   "metadata": {},
   "outputs": [],
   "source": [
    "# list available ports:\n",
    "# $ python -m serial.tools.list_ports\n",
    "\n",
    "#Port öffnen mit:\n",
    "ser = serial.Serial('/dev/ttyACM1',115200)\n",
    "\n",
    "#ser.write(b\"1\")"
   ]
  },
  {
   "cell_type": "code",
   "execution_count": 4,
   "metadata": {},
   "outputs": [
    {
     "name": "stdout",
     "output_type": "stream",
     "text": [
      "123 b'.00\\r\\n'\n",
      "0.4095728703654662 0.0\n",
      "0 b' 0.86\\r\\n'\n",
      "0.45559229400203544 0.86\n",
      "0 b' 1.38\\r\\n'\n",
      "0.5276893910326605 1.38\n",
      "0 b' 2.08\\r\\n'\n",
      "0.7117670855789375 2.08\n",
      "0 b' 2.40\\r\\n'\n",
      "0.3144660615165564 2.4\n",
      "0 b' 3.57\\r\\n'\n",
      "1.167359379580973 3.57\n"
     ]
    }
   ],
   "source": [
    "def get_label_value():\n",
    "    #get label from Simulink\n",
    "    #ser.flush()\n",
    "    #print(ser.in_waiting)\n",
    "    ser.flushInput()\n",
    "    value = ser.read_until()\n",
    "    print(ser.in_waiting, value)\n",
    "    return float(value)\n",
    "\n",
    "def move(random_rad):\n",
    "    #temp = bytearray(struct.pack(\"f\", random_rad))\n",
    "    ser.write(str(random_rad).encode('utf-8'))\n",
    "    time.sleep(2)\n",
    "\n",
    "for a in range(6):  \n",
    "    #ser.reset_input_buffer()\n",
    "    rand_increment = random.randint(100,800) \n",
    "    rand_rad = rand_increment/4096 * (2*math.pi)\n",
    "    move(rand_rad)\n",
    "    \n",
    "    theta = get_label_value()\n",
    "    theta = theta%(2*math.pi)\n",
    "    print(rand_rad, theta)"
   ]
  },
  {
   "cell_type": "code",
   "execution_count": null,
   "metadata": {},
   "outputs": [],
   "source": []
  }
 ],
 "metadata": {
  "kernelspec": {
   "display_name": "Python 3",
   "language": "python",
   "name": "python3"
  },
  "language_info": {
   "codemirror_mode": {
    "name": "ipython",
    "version": 3
   },
   "file_extension": ".py",
   "mimetype": "text/x-python",
   "name": "python",
   "nbconvert_exporter": "python",
   "pygments_lexer": "ipython3",
   "version": "3.7.3"
  }
 },
 "nbformat": 4,
 "nbformat_minor": 2
}
