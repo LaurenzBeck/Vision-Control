{
 "cells": [
  {
   "cell_type": "code",
   "execution_count": 32,
   "metadata": {},
   "outputs": [
    {
     "name": "stdout",
     "output_type": "stream",
     "text": [
      "(720, 65, 62, 3)\n",
      "720\n",
      "(65, 62, 3)\n",
      "<class 'numpy.ndarray'>\n"
     ]
    }
   ],
   "source": [
    "import numpy as np\n",
    "import cv2\n",
    "import os\n",
    "\n",
    "pictures = []\n",
    "\n",
    "for filepath in os.listdir('simple_clock/'):\n",
    "    pic_bgr = cv2.imread('simple_clock/{0}'.format(filepath), 1)\n",
    "    pic_rgb = pic_bgr[:,:,::-1]\n",
    "    pictures.append(cv2.imread('simple_clock/{0}'.format(filepath), 1))\n",
    "\n",
    "x = np.stack(pictures, axis = 0)\n",
    "print(x.shape)\n",
    "print(len(pictures))\n",
    "print(pictures[1].shape)\n",
    "print(type(pictures[1]))"
   ]
  },
  {
   "cell_type": "code",
   "execution_count": 29,
   "metadata": {},
   "outputs": [
    {
     "data": {
      "image/png": "[encoded data removed]",
      "text/plain": [
       "<Figure size 432x288 with 1 Axes>"
      ]
     },
     "metadata": {
      "needs_background": "light"
     },
     "output_type": "display_data"
    }
   ],
   "source": [
    "from matplotlib import pyplot as plt\n",
    "\n",
    "plt.imshow(pictures[719])\n",
    "plt.show()"
   ]
  },
  {
   "cell_type": "code",
   "execution_count": 39,
   "metadata": {},
   "outputs": [
    {
     "name": "stdout",
     "output_type": "stream",
     "text": [
      "[[  0.    0. ]\n",
      " [  0.5   6. ]\n",
      " [  1.   12. ]\n",
      " ...\n",
      " [358.5 342. ]\n",
      " [359.  348. ]\n",
      " [359.5 354. ]]\n"
     ]
    }
   ],
   "source": [
    "y = np. zeros((720, 2))\n",
    "for i in range(720):\n",
    "    y[i][0] = np.interp(i,[0,720],[0,360])\n",
    "\n",
    "for h in range(12):\n",
    "    for m in range(60):\n",
    "        y[h*60+m][1] = np.interp(m,[0,60],[0,360])\n",
    "print(y)"
   ]
  },
  {
   "cell_type": "code",
   "execution_count": 35,
   "metadata": {},
   "outputs": [
    {
     "name": "stdout",
     "output_type": "stream",
     "text": [
      "0\n",
      "1\n",
      "2\n"
     ]
    }
   ],
   "source": []
  },
  {
   "cell_type": "code",
   "execution_count": null,
   "metadata": {},
   "outputs": [],
   "source": []
  }
 ],
 "metadata": {
  "kernelspec": {
   "display_name": "Python 3",
   "language": "python",
   "name": "python3"
  },
  "language_info": {
   "codemirror_mode": {
    "name": "ipython",
    "version": 3
   },
   "file_extension": ".py",
   "mimetype": "text/x-python",
   "name": "python",
   "nbconvert_exporter": "python",
   "pygments_lexer": "ipython3",
   "version": "3.7.1"
  }
 },
 "nbformat": 4,
 "nbformat_minor": 2
}
