{
 "cells": [
  {
   "cell_type": "code",
   "execution_count": 1,
   "metadata": {},
   "outputs": [],
   "source": [
    "import os\n",
    "import csv"
   ]
  },
  {
   "cell_type": "code",
   "execution_count": 15,
   "metadata": {},
   "outputs": [],
   "source": [
    "#create csv \n",
    "csvData = [['id', 'label']]\n",
    "\n",
    "with open('labels.csv', 'w') as csvFile:\n",
    "    writer = csv.writer(csvFile)\n",
    "    writer.writerows(csvData)"
   ]
  },
  {
   "cell_type": "code",
   "execution_count": 23,
   "metadata": {},
   "outputs": [
    {
     "name": "stdout",
     "output_type": "stream",
     "text": [
      "58756\n",
      "55479\n"
     ]
    }
   ],
   "source": [
    "img_count = -1\n",
    "final_count = 0\n",
    "with open('image_labels.csv', 'r') as inp, open('labels.csv', 'w', newline='') as out:\n",
    "    writer = csv.writer(out)\n",
    "    for row in csv.reader(inp):\n",
    "        if len(row) == 0:\n",
    "            break\n",
    "        if img_count == -1:\n",
    "            header = ['id', 'label']\n",
    "            writer.writerow(header)\n",
    "            img_count = 0\n",
    "            continue\n",
    "        img_count += 1\n",
    "        if os.path.isfile('./images/' + str(row[0])):\n",
    "            writer.writerow(row)\n",
    "            final_count += 1\n",
    "            \n",
    "print(img_count)\n",
    "print(final_count)"
   ]
  },
  {
   "cell_type": "code",
   "execution_count": 2,
   "metadata": {},
   "outputs": [],
   "source": [
    "import numpy as np\n",
    "\n",
    "img_count = -1\n",
    "with open('labels.csv', 'r') as inp, open('labels_all_added_shifted.csv', 'w', newline='') as out:\n",
    "    writer = csv.writer(out)\n",
    "    for row in csv.reader(inp):\n",
    "        if len(row) == 0:\n",
    "            break\n",
    "        if img_count == -1:\n",
    "            header = ['id', 'label_rad', 'label_scaled', 'label_scaled_shifted', 'label_sin', 'label_cos']\n",
    "            writer.writerow(header)\n",
    "            img_count = 0\n",
    "            continue\n",
    "        img_count += 1\n",
    "        #new_row = [row[0], row[1], float(row[1])/np.pi, np.sin(float(row[1]), np.cos(float(row[1]))]\n",
    "        row.append(round(float(row[1])/(2*np.pi), 2))\n",
    "        row.append(round((float(row[1])/(2*np.pi))-0.5, 2))\n",
    "        row.append(round(np.sin(float(row[1])),2))\n",
    "        row.append(round(np.cos(float(row[1])),2))\n",
    "        writer.writerow(row)"
   ]
  },
  {
   "cell_type": "code",
   "execution_count": null,
   "metadata": {},
   "outputs": [],
   "source": []
  }
 ],
 "metadata": {
  "kernelspec": {
   "display_name": "tfgpu",
   "language": "python",
   "name": "tfgpu"
  },
  "language_info": {
   "codemirror_mode": {
    "name": "ipython",
    "version": 3
   },
   "file_extension": ".py",
   "mimetype": "text/x-python",
   "name": "python",
   "nbconvert_exporter": "python",
   "pygments_lexer": "ipython3",
   "version": "3.6.8"
  }
 },
 "nbformat": 4,
 "nbformat_minor": 2
}
