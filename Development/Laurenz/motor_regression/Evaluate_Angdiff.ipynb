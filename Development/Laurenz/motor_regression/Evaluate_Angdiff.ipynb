{
 "cells": [
  {
   "cell_type": "code",
   "execution_count": 1,
   "metadata": {},
   "outputs": [
    {
     "name": "stderr",
     "output_type": "stream",
     "text": [
      "Using TensorFlow backend.\n"
     ]
    },
    {
     "name": "stdout",
     "output_type": "stream",
     "text": [
      "2.1.6-tf\n",
      "['/job:localhost/replica:0/task:0/device:GPU:0']\n"
     ]
    }
   ],
   "source": [
    "import numpy as np\n",
    "import tensorflow as tf\n",
    "import keras\n",
    "from keras import backend as K\n",
    "\n",
    "print(tf.keras.__version__)\n",
    "print(K.tensorflow_backend._get_available_gpus())\n",
    "\n",
    "PI = tf.constant(np.pi)"
   ]
  },
  {
   "cell_type": "code",
   "execution_count": 2,
   "metadata": {},
   "outputs": [],
   "source": [
    "#Objective Function\n",
    "def scaled_and_shifted_squared_angdiff(y_true, y_pred):\n",
    "    y_true_scaled = (y_true+0.5)*2*PI\n",
    "    y_pred_scaled = (y_pred+0.5)*2*PI\n",
    "    delta = tf.atan2(tf.sin(y_pred_scaled-y_true_scaled), tf.cos(y_pred_scaled-y_true_scaled))\n",
    "    loss = tf.square(delta)\n",
    "    return loss"
   ]
  },
  {
   "cell_type": "code",
   "execution_count": null,
   "metadata": {},
   "outputs": [],
   "source": [
    "#Option 1)\n",
    "a = tf.constant(-0.49, dtype=tf.float32)\n",
    "b = tf.constant(0.0) # also tf.float32 implicitly\n",
    "angdiff = scaled_and_shifted_squared_angdiff(a, b)\n",
    "print(a)\n",
    "print(b)\n",
    "print(angdiff)\n",
    "sess = tf.Session()\n",
    "print(sess.run(angdiff))"
   ]
  },
  {
   "cell_type": "code",
   "execution_count": 3,
   "metadata": {},
   "outputs": [
    {
     "name": "stdout",
     "output_type": "stream",
     "text": [
      "[0.01579133 9.869605  ]\n"
     ]
    }
   ],
   "source": [
    "#Option 2)\n",
    "x = tf.placeholder(tf.float32)\n",
    "y = tf.placeholder(tf.float32)\n",
    "feed_dict={x: [-0.49, 0], y: [0.49, 0.5]}\n",
    "with tf.Session() as sess:\n",
    "    print(sess.run(scaled_and_shifted_squared_angdiff(x, y), feed_dict))"
   ]
  },
  {
   "cell_type": "code",
   "execution_count": null,
   "metadata": {},
   "outputs": [],
   "source": []
  }
 ],
 "metadata": {
  "kernelspec": {
   "display_name": "tfgpu",
   "language": "python",
   "name": "tfgpu"
  },
  "language_info": {
   "codemirror_mode": {
    "name": "ipython",
    "version": 3
   },
   "file_extension": ".py",
   "mimetype": "text/x-python",
   "name": "python",
   "nbconvert_exporter": "python",
   "pygments_lexer": "ipython3",
   "version": "3.6.8"
  }
 },
 "nbformat": 4,
 "nbformat_minor": 2
}
