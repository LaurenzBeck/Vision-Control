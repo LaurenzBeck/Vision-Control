{
 "cells": [
  {
   "cell_type": "code",
   "execution_count": 1,
   "metadata": {},
   "outputs": [],
   "source": [
    "import os\n",
    "import matplotlib.pyplot as plt\n",
    "import numpy as np\n",
    "from itertools import product"
   ]
  },
  {
   "cell_type": "code",
   "execution_count": 2,
   "metadata": {},
   "outputs": [],
   "source": [
    "widths = [.05, .05, .00]  # Hide seconds.\n",
    "lengths = [.6, .9, 1]\n",
    "colors = plt.cm.gray(np.linspace(0, 1, 4))[0:3]\n",
    "factor = [12, 60, 60, 1]\n",
    "\n",
    "# Mess with this to get bigger/smaller images (in pixels). Note that both the\n",
    "# dpi and figure size matters. These settings produce a 57x57 image.\n",
    "fig_size = 5\n",
    "fig_dpi = 14"
   ]
  },
  {
   "cell_type": "code",
   "execution_count": 3,
   "metadata": {},
   "outputs": [],
   "source": [
    "def time_to_radians(time):\n",
    "    rads = [0, 0, 0]\n",
    "    time += (0, )  # Pad with zero in milliseconds place.\n",
    "    for i in range(3):\n",
    "        rads[i] = 2 * np.pi * (float(time[i]) / factor[i] +\n",
    "                               float(time[i + 1]) /\n",
    "                               factor[i + 1] / factor[i])\n",
    "\n",
    "        rads[i] -= (widths[i] / 2)\n",
    "    return rads"
   ]
  },
  {
   "cell_type": "code",
   "execution_count": 4,
   "metadata": {},
   "outputs": [],
   "source": [
    "def create_clock(times):\n",
    "    plt.rcParams['toolbar'] = 'None'\n",
    "    fig = plt.figure(figsize=(fig_size, fig_size), facecolor='w')\n",
    "    ax = plt.subplot(111, polar=True)\n",
    "    ax.get_yaxis().set_visible(False)\n",
    "\n",
    "    # 12 labels, clockwise\n",
    "    marks = np.linspace(360. / 12, 360, 12, endpoint=True)\n",
    "    ax.set_thetagrids(marks, map(lambda m: int(m / 30), marks), #frac=.85, -> frac wird von Matplotlib nicht mehr unterstützt\n",
    "                      size='x-large')\n",
    "    ax.set_theta_direction(-1)\n",
    "    ax.set_theta_offset(np.pi / 2)\n",
    "    ax.grid(True) #True erstellt bei jeder Stunde eine Linie\n",
    "\n",
    "    # These are the clock hands. We update the coordinates later.\n",
    "    bars = ax.bar(time_to_radians(times), lengths, width=widths, bottom=0.0, color=colors, linewidth=0)#[2.0, 1.0, 0.0]\n",
    "\n",
    "    return fig, ax, bars"
   ]
  },
  {
   "cell_type": "code",
   "execution_count": null,
   "metadata": {},
   "outputs": [],
   "source": [
    "def save_clock(fig, directory, time):\n",
    "    fname = os.path.join(directory, 'clock-{:02d}.{:02d}.{:02d}.png'.format(*time))\n",
    "    fig.savefig(fname, bbox_inches='tight', dpi=14)\n",
    "    return fname"
   ]
  },
  {
   "cell_type": "code",
   "execution_count": null,
   "metadata": {},
   "outputs": [],
   "source": [
    "dir_name = 'clocks'\n",
    "index_fname = 'clocks_all.txt'\n",
    "\n",
    "if not os.path.isdir(dir_name):\n",
    "        os.mkdir(dir_name)\n",
    "        print('Created directory {}.'.format(dir_name))"
   ]
  },
  {
   "cell_type": "code",
   "execution_count": null,
   "metadata": {},
   "outputs": [],
   "source": [
    "hours = range(0, 12) #12\n",
    "minutes = range(0, 60) #60\n",
    "seconds = [0]\n",
    "times = [x for x in product(hours, minutes, seconds)]\n",
    "\n",
    "with open(index_fname, 'w') as index_file:\n",
    "    for t in times:\n",
    "        fig, ax, bars = create_clock(t)\n",
    "        #print('Generating clock for time: {}'.format(t))\n",
    "        clock_fname = save_clock(fig, dir_name, t)\n",
    "        index_str = '{}\\t{}\\t{}\\n'.format(clock_fname, t[0], t[1])\n",
    "        index_file.write(index_str)\n",
    "        plt.show()\n",
    "print('Created {} clocks.'.format(len(times)))"
   ]
  }
 ],
 "metadata": {
  "kernelspec": {
   "display_name": "Python 3",
   "language": "python",
   "name": "python3"
  },
  "language_info": {
   "codemirror_mode": {
    "name": "ipython",
    "version": 3
   },
   "file_extension": ".py",
   "mimetype": "text/x-python",
   "name": "python",
   "nbconvert_exporter": "python",
   "pygments_lexer": "ipython3",
   "version": "3.7.1"
  }
 },
 "nbformat": 4,
 "nbformat_minor": 2
}
