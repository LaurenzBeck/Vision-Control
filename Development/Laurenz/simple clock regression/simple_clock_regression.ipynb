{
 "cells": [
  {
   "cell_type": "code",
   "execution_count": 4,
   "metadata": {},
   "outputs": [
    {
     "name": "stdout",
     "output_type": "stream",
     "text": [
      "2.1.6-tf\n",
      "[]\n"
     ]
    }
   ],
   "source": [
    "import numpy as np\n",
    "import tensorflow as tf\n",
    "from tensorflow import keras\n",
    "from keras import backend as K\n",
    "import h5py\n",
    "from matplotlib import pyplot as plt\n",
    "from sklearn.model_selection import train_test_split\n",
    "\n",
    "%matplotlib inline\n",
    "print(tf.keras.__version__)\n",
    "print(K.tensorflow_backend._get_available_gpus())"
   ]
  },
  {
   "cell_type": "code",
   "execution_count": 5,
   "metadata": {},
   "outputs": [],
   "source": [
    "# open the dataset\n",
    "with h5py.File('simple_clock.hdf5', 'r') as f:\n",
    "    x = f['training_input_grayscale'][:]\n",
    "    y = f['output_labels'][:,1]\n",
    " \n",
    "x = x.reshape(720, 65, 62, 1)\n",
    "y = y.reshape(720, 1)"
   ]
  },
  {
   "cell_type": "code",
   "execution_count": 6,
   "metadata": {},
   "outputs": [],
   "source": [
    "#normalizing the data\n",
    "x = x/255\n",
    "y = y/360"
   ]
  },
  {
   "cell_type": "code",
   "execution_count": 7,
   "metadata": {},
   "outputs": [
    {
     "name": "stdout",
     "output_type": "stream",
     "text": [
      "(720, 65, 62, 1)\n",
      "(720, 1)\n",
      "(612, 65, 62, 1)\n",
      "(612, 1)\n",
      "(108, 65, 62, 1)\n",
      "(108, 1)\n"
     ]
    }
   ],
   "source": [
    "#train/test split\n",
    "x_train, x_test, y_train, y_test = train_test_split(x, y, test_size=0.15, random_state=42)\n",
    "\n",
    "print(x.shape)\n",
    "print(y.shape)\n",
    "print(x_train.shape)\n",
    "print(y_train.shape)\n",
    "print(x_test.shape)\n",
    "print(y_test.shape)"
   ]
  },
  {
   "cell_type": "code",
   "execution_count": 8,
   "metadata": {},
   "outputs": [
    {
     "data": {
      "text/plain": [
       "<matplotlib.image.AxesImage at 0x7f0f18094550>"
      ]
     },
     "execution_count": 8,
     "metadata": {},
     "output_type": "execute_result"
    },
    {
     "data": {
      "image/png": "[encoded data removed]",
      "text/plain": [
       "<Figure size 432x288 with 3 Axes>"
      ]
     },
     "metadata": {
      "needs_background": "light"
     },
     "output_type": "display_data"
    }
   ],
   "source": [
    "#visualizing some examples\n",
    "f, axarr = plt.subplots(1,3)\n",
    "\n",
    "axarr[0].imshow(x[50].reshape(65,62), cmap='gray', vmin=0, vmax=1)\n",
    "axarr[1].imshow(x[145].reshape(65,62), cmap='gray', vmin=0, vmax=1)\n",
    "axarr[2].imshow(x[560].reshape(65,62), cmap='gray', vmin=0, vmax=1)"
   ]
  },
  {
   "cell_type": "code",
   "execution_count": 9,
   "metadata": {},
   "outputs": [
    {
     "name": "stdout",
     "output_type": "stream",
     "text": [
      "_________________________________________________________________\n",
      "Layer (type)                 Output Shape              Param #   \n",
      "=================================================================\n",
      "conv2d (Conv2D)              (None, 63, 60, 60)        600       \n",
      "_________________________________________________________________\n",
      "conv2d_1 (Conv2D)            (None, 61, 58, 20)        10820     \n",
      "_________________________________________________________________\n",
      "max_pooling2d (MaxPooling2D) (None, 30, 29, 20)        0         \n",
      "_________________________________________________________________\n",
      "flatten (Flatten)            (None, 17400)             0         \n",
      "_________________________________________________________________\n",
      "dense (Dense)                (None, 64)                1113664   \n",
      "_________________________________________________________________\n",
      "dense_1 (Dense)              (None, 64)                4160      \n",
      "_________________________________________________________________\n",
      "dense_2 (Dense)              (None, 1)                 65        \n",
      "=================================================================\n",
      "Total params: 1,129,309\n",
      "Trainable params: 1,129,309\n",
      "Non-trainable params: 0\n",
      "_________________________________________________________________\n",
      "Epoch 1/20\n",
      "612/612 [==============================] - 6s 9ms/step - loss: 0.2665\n",
      "Epoch 2/20\n",
      "612/612 [==============================] - 6s 10ms/step - loss: 0.2620\n",
      "Epoch 3/20\n",
      "612/612 [==============================] - 6s 10ms/step - loss: 0.2582\n",
      "Epoch 4/20\n",
      "612/612 [==============================] - 6s 9ms/step - loss: 0.2542\n",
      "Epoch 5/20\n",
      "612/612 [==============================] - 6s 10ms/step - loss: 0.2556\n",
      "Epoch 6/20\n",
      "612/612 [==============================] - 6s 9ms/step - loss: 0.2512\n",
      "Epoch 7/20\n",
      "612/612 [==============================] - 6s 9ms/step - loss: 0.2559\n",
      "Epoch 8/20\n",
      "612/612 [==============================] - 6s 10ms/step - loss: 0.2539\n",
      "Epoch 9/20\n",
      "612/612 [==============================] - 6s 10ms/step - loss: 0.2559\n",
      "Epoch 10/20\n",
      "612/612 [==============================] - 7s 12ms/step - loss: 0.2487\n",
      "Epoch 11/20\n",
      "612/612 [==============================] - 6s 10ms/step - loss: 0.2527\n",
      "Epoch 12/20\n",
      "612/612 [==============================] - 7s 11ms/step - loss: 0.2582\n",
      "Epoch 13/20\n",
      "612/612 [==============================] - 6s 10ms/step - loss: 0.2538\n",
      "Epoch 14/20\n",
      "612/612 [==============================] - 6s 9ms/step - loss: 0.2510\n",
      "Epoch 15/20\n",
      "612/612 [==============================] - 6s 10ms/step - loss: 0.2494\n",
      "Epoch 16/20\n",
      "612/612 [==============================] - 6s 9ms/step - loss: 0.2486\n",
      "Epoch 17/20\n",
      "612/612 [==============================] - 6s 10ms/step - loss: 0.2493\n",
      "Epoch 18/20\n",
      "612/612 [==============================] - 6s 9ms/step - loss: 0.2531\n",
      "Epoch 19/20\n",
      "612/612 [==============================] - 6s 9ms/step - loss: 0.2512\n",
      "Epoch 20/20\n",
      "612/612 [==============================] - 5s 9ms/step - loss: 0.2517\n",
      "108/108 [==============================] - 0s 3ms/step\n"
     ]
    }
   ],
   "source": [
    "#Convolutional Neural Network implementation\n",
    "\n",
    "model = tf.keras.models.Sequential([\n",
    "  tf.keras.layers.Conv2D(60, (3,3), activation='relu', input_shape=(65,62,1)),\n",
    "  tf.keras.layers.Conv2D(20, (3,3), activation='relu'),\n",
    "  #tf.keras.layers.MaxPooling2D(2, 2),\n",
    "  #tf.keras.layers.Conv2D(20, (3,3), activation='relu'),\n",
    "  tf.keras.layers.MaxPooling2D(2, 2),\n",
    "  #tf.keras.layers.Conv2D(64, (3,3), activation='relu'),\n",
    "  #tf.keras.layers.MaxPooling2D(2,2),\n",
    "  tf.keras.layers.Flatten(),\n",
    "  tf.keras.layers.Dense(64, activation='relu'),\n",
    "  tf.keras.layers.Dense(64, activation='relu'),\n",
    "  tf.keras.layers.Dense(1, activation='relu')\n",
    "])\n",
    "model.compile(optimizer='sgd', loss='mean_absolute_error')\n",
    "model.summary()\n",
    "model.fit(x_train, y_train, epochs=20)\n",
    "test_loss = model.evaluate(x_test, y_test)"
   ]
  },
  {
   "cell_type": "code",
   "execution_count": null,
   "metadata": {},
   "outputs": [],
   "source": [
    "# model.save('first_model.h5py')\n",
    "plt.imshow(x[50].reshape(65,62), cmap='gray', vmin=0, vmax=1)\n",
    "\n",
    "print(y[50])\n",
    "preds = model.predict(x)\n",
    "print(preds[50])"
   ]
  },
  {
   "cell_type": "code",
   "execution_count": null,
   "metadata": {},
   "outputs": [],
   "source": [
    "print(y[470])\n",
    "print(preds[470])\n",
    "print(y[100])\n",
    "print(preds[100])\n",
    "print(y[50])\n",
    "print(preds[50])"
   ]
  },
  {
   "cell_type": "markdown",
   "metadata": {},
   "source": [
    "Das Modell gibt immer einen Wert um die 150° aus :("
   ]
  }
 ],
 "metadata": {
  "kernelspec": {
   "display_name": "Python 3",
   "language": "python",
   "name": "python3"
  },
  "language_info": {
   "codemirror_mode": {
    "name": "ipython",
    "version": 3
   },
   "file_extension": ".py",
   "mimetype": "text/x-python",
   "name": "python",
   "nbconvert_exporter": "python",
   "pygments_lexer": "ipython3",
   "version": "3.7.3"
  }
 },
 "nbformat": 4,
 "nbformat_minor": 2
}
