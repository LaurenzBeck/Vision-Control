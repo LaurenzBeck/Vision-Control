{
 "cells": [
  {
   "cell_type": "code",
   "execution_count": 3,
   "metadata": {},
   "outputs": [],
   "source": [
    "import cv2\n",
    "import time\n",
    "import csv\n",
    "\n",
    "def get_label_value():\n",
    "    #get label from Simulink\n",
    "    return 3 \n",
    "\n",
    "def take_picture(video, img_file_path, img_name):\n",
    "    check, frame = video.read()\n",
    "    cv2.imwrite(str(img_file_path+img_name), frame)\n",
    "    \n",
    "def log_csv(file, img_name, label):\n",
    "    with open(file, 'a') as csvFile:\n",
    "        writer = csv.writer(csvFile)\n",
    "        writer.writerow([img_name, label])\n",
    "    csvFile.close()\n",
    "    \n",
    "    \n",
    "csv_file_path = \"./img_labels.csv\"\n",
    "img_file_path = \"./pictures/\"\n",
    "video = cv2.VideoCapture(0)\n",
    "\n",
    "for a in range(3):  \n",
    "    label = get_label_value()\n",
    "    img_name = \"{}_{}.png\".format(label, time.time())\n",
    "    take_picture(video,img_file_path, img_name)\n",
    "    log_csv(csv_file_path, img_name, label)\n",
    "    #send word to Simulink to move to new position\n",
    "    #wait until position reached\n",
    "\n",
    "video.release()"
   ]
  },
  {
   "cell_type": "code",
   "execution_count": null,
   "metadata": {},
   "outputs": [],
   "source": []
  }
 ],
 "metadata": {
  "kernelspec": {
   "display_name": "Python 2",
   "language": "python",
   "name": "python2"
  },
  "language_info": {
   "codemirror_mode": {
    "name": "ipython",
    "version": 2
   },
   "file_extension": ".py",
   "mimetype": "text/x-python",
   "name": "python",
   "nbconvert_exporter": "python",
   "pygments_lexer": "ipython2",
   "version": "2.7.16"
  }
 },
 "nbformat": 4,
 "nbformat_minor": 2
}
